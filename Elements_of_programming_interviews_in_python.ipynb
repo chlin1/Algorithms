{
  "nbformat": 4,
  "nbformat_minor": 0,
  "metadata": {
    "colab": {
      "name": "Elements of programming interviews in python.ipynb",
      "version": "0.3.2",
      "provenance": [],
      "toc_visible": true,
      "include_colab_link": true
    },
    "kernelspec": {
      "name": "python3",
      "display_name": "Python 3"
    }
  },
  "cells": [
    {
      "cell_type": "markdown",
      "metadata": {
        "id": "view-in-github",
        "colab_type": "text"
      },
      "source": [
        "<a href=\"https://colab.research.google.com/github/chlin1/Algorithms/blob/master/Elements_of_programming_interviews_in_python.ipynb\" target=\"_parent\"><img src=\"https://colab.research.google.com/assets/colab-badge.svg\" alt=\"Open In Colab\"/></a>"
      ]
    },
    {
      "metadata": {
        "id": "NKKMa1ImU9o0",
        "colab_type": "code",
        "colab": {}
      },
      "cell_type": "code",
      "source": [
        ""
      ],
      "execution_count": 0,
      "outputs": []
    },
    {
      "metadata": {
        "id": "dP6csX_j9PyN",
        "colab_type": "text"
      },
      "cell_type": "markdown",
      "source": [
        "# New Section"
      ]
    },
    {
      "metadata": {
        "id": "i-sFYGiBVsvY",
        "colab_type": "text"
      },
      "cell_type": "markdown",
      "source": [
        "# Primitive types"
      ]
    },
    {
      "metadata": {
        "id": "GAm6jr9AWG-2",
        "colab_type": "text"
      },
      "cell_type": "markdown",
      "source": [
        "numerics(e.g. integer)\n",
        "sequences (e.g. list)\n",
        "mappings (e.g. dict)\n",
        "classes\n",
        "instances\n",
        "exceptions"
      ]
    },
    {
      "metadata": {
        "id": "ylu_78GqWArW",
        "colab_type": "code",
        "outputId": "166859e3-3dbf-4a15-daed-80dcfbf44035",
        "colab": {
          "base_uri": "https://localhost:8080/",
          "height": 34
        }
      },
      "cell_type": "code",
      "source": [
        "import sys\n",
        "sys.maxsize\n",
        "# max integer"
      ],
      "execution_count": 0,
      "outputs": [
        {
          "output_type": "execute_result",
          "data": {
            "text/plain": [
              "9223372036854775807"
            ]
          },
          "metadata": {
            "tags": []
          },
          "execution_count": 2
        }
      ]
    },
    {
      "metadata": {
        "id": "2J8tv8bLWaaO",
        "colab_type": "code",
        "outputId": "2d987b55-3c1b-4c51-f345-d6fbdacbe1ff",
        "colab": {
          "base_uri": "https://localhost:8080/",
          "height": 34
        }
      },
      "cell_type": "code",
      "source": [
        "2**63-1"
      ],
      "execution_count": 0,
      "outputs": [
        {
          "output_type": "execute_result",
          "data": {
            "text/plain": [
              "9223372036854775807"
            ]
          },
          "metadata": {
            "tags": []
          },
          "execution_count": 3
        }
      ]
    },
    {
      "metadata": {
        "id": "cIhREotfWjqT",
        "colab_type": "code",
        "outputId": "6a30dd70-1564-4c6d-9853-a81e265365de",
        "colab": {
          "base_uri": "https://localhost:8080/",
          "height": 54
        }
      },
      "cell_type": "code",
      "source": [
        "sys.float_info"
      ],
      "execution_count": 0,
      "outputs": [
        {
          "output_type": "execute_result",
          "data": {
            "text/plain": [
              "sys.float_info(max=1.7976931348623157e+308, max_exp=1024, max_10_exp=308, min=2.2250738585072014e-308, min_exp=-1021, min_10_exp=-307, dig=15, mant_dig=53, epsilon=2.220446049250313e-16, radix=2, rounds=1)"
            ]
          },
          "metadata": {
            "tags": []
          },
          "execution_count": 4
        }
      ]
    },
    {
      "metadata": {
        "id": "MsvEm_vGXRzJ",
        "colab_type": "text"
      },
      "cell_type": "markdown",
      "source": [
        "## **bitwise operators** [link](https://wiki.python.org/moin/BitwiseOperators)\n",
        "\n",
        "1. x << y\n",
        "\n",
        "Returns x with the bits shifted to the left by y places (and new bits on the right-hand-side are zeros). This is the same as multiplying x by 2\\**y.\n",
        "2. x >> y\n",
        "\n",
        "Returns x with the bits shifted to the right by y places. This is the same as //'ing x by 2\\**y.\n",
        "3. x & y\n",
        "\n",
        "Does a \"bitwise and\". Each bit of the output is 1 if the corresponding bit of x AND of y is 1, otherwise it's 0.\n",
        "4. x | y\n",
        "\n",
        "Does a \"bitwise or\". Each bit of the output is 0 if the corresponding bit of x AND of y is 0, otherwise it's 1.\n",
        "5. ~ x\n",
        "\n",
        "Returns the complement of x - the number you get by switching each 1 for a 0 and each 0 for a 1. This is the same as -x - 1.\n",
        "\n",
        "6. x ^ y\n",
        "\n",
        "Does a \"bitwise exclusive or\". Each bit of the output is the same as the corresponding bit in x if that bit in y is 0, and it's the complement of the bit in x if that bit in y is 1."
      ]
    },
    {
      "metadata": {
        "id": "zkkcxbupWrdj",
        "colab_type": "code",
        "outputId": "07be30a9-693c-4de9-aa55-cb12eb1a1bd7",
        "colab": {
          "base_uri": "https://localhost:8080/",
          "height": 34
        }
      },
      "cell_type": "code",
      "source": [
        "~0 # ~x =-x-1"
      ],
      "execution_count": 0,
      "outputs": [
        {
          "output_type": "execute_result",
          "data": {
            "text/plain": [
              "-1"
            ]
          },
          "metadata": {
            "tags": []
          },
          "execution_count": 5
        }
      ]
    },
    {
      "metadata": {
        "id": "qqop7FCvcHsB",
        "colab_type": "text"
      },
      "cell_type": "markdown",
      "source": [
        "## ** 2's compliment**\n",
        "Negative numbers are written with a leading one instead of a leading zero. So if you are using only 8 bits for your twos-complement numbers, then you treat patterns from \"00000000\" to \"01111111\" as the whole numbers from 0 to 127, and reserve \"1xxxxxxx\" for writing negative numbers. A negative number, -x, is written using the bit pattern for (x-1) with all of the bits complemented (switched from 1 to 0 or 0 to 1). So -1 is complement(1 - 1) = complement(0) = \"11111111\", and -10 is complement(10 - 1) = complement(9) = complement(\"00001001\") = \"11110110\". This means that negative numbers go all the way down to -128 (\"10000000\").\n",
        "\n",
        "use n bits to represent numbers in [-2^{n-1},2^{n-1}-1]\n",
        "positive integers: [0,2^{n-1}-1] have leading bit of 0\n",
        "negative integers: [-2^{n-1},-1] have leading bit of 1\n",
        "(-x: first construct x, flip all bits, add 1)\n",
        "\n",
        "\n",
        "any integer is stored modulo 2^n \n",
        "(x + (-x)=0 modulo 2^n)"
      ]
    },
    {
      "metadata": {
        "id": "YCUwSN4YdN3F",
        "colab_type": "text"
      },
      "cell_type": "markdown",
      "source": [
        ""
      ]
    },
    {
      "metadata": {
        "id": "owXrJLwjX0nY",
        "colab_type": "code",
        "outputId": "7bddd532-6b18-48b0-991b-598580ae1925",
        "colab": {
          "base_uri": "https://localhost:8080/",
          "height": 34
        }
      },
      "cell_type": "code",
      "source": [
        "# -x =~(x-1)\n",
        "~(2-1)"
      ],
      "execution_count": 0,
      "outputs": [
        {
          "output_type": "execute_result",
          "data": {
            "text/plain": [
              "-2"
            ]
          },
          "metadata": {
            "tags": []
          },
          "execution_count": 7
        }
      ]
    },
    {
      "metadata": {
        "id": "LixvkDDmgUgC",
        "colab_type": "code",
        "outputId": "970e7498-d2d0-4319-b977-51897d8cfd28",
        "colab": {
          "base_uri": "https://localhost:8080/",
          "height": 34
        }
      },
      "cell_type": "code",
      "source": [
        "pow(2.71,3.14)==2.71**3.14"
      ],
      "execution_count": 0,
      "outputs": [
        {
          "output_type": "execute_result",
          "data": {
            "text/plain": [
              "True"
            ]
          },
          "metadata": {
            "tags": []
          },
          "execution_count": 19
        }
      ]
    },
    {
      "metadata": {
        "id": "aYMppldvgdJM",
        "colab_type": "code",
        "outputId": "e48bb781-3ee8-4f74-be9f-00a70b89dae4",
        "colab": {
          "base_uri": "https://localhost:8080/",
          "height": 34
        }
      },
      "cell_type": "code",
      "source": [
        "float('inf')\n",
        "float('-inf')"
      ],
      "execution_count": 0,
      "outputs": [
        {
          "output_type": "execute_result",
          "data": {
            "text/plain": [
              "-inf"
            ]
          },
          "metadata": {
            "tags": []
          },
          "execution_count": 22
        }
      ]
    },
    {
      "metadata": {
        "id": "t5DfHGWwflJP",
        "colab_type": "code",
        "colab": {}
      },
      "cell_type": "code",
      "source": [
        "import random\n"
      ],
      "execution_count": 0,
      "outputs": []
    },
    {
      "metadata": {
        "id": "WDUbQkojfvDe",
        "colab_type": "code",
        "outputId": "327d5d49-5118-4ef0-b66b-a476d87aa3e3",
        "colab": {
          "base_uri": "https://localhost:8080/",
          "height": 101
        }
      },
      "cell_type": "code",
      "source": [
        "print(random.randrange(10))\n",
        "print(random.randint(8,16))\n",
        "print(random.random())\n",
        "A=[3,1,5,9]\n",
        "random.shuffle(A)\n",
        "print(A)\n",
        "random.choice(A)"
      ],
      "execution_count": 0,
      "outputs": [
        {
          "output_type": "stream",
          "text": [
            "2\n",
            "11\n",
            "0.9636769923867569\n",
            "[1, 3, 9, 5]\n"
          ],
          "name": "stdout"
        },
        {
          "output_type": "execute_result",
          "data": {
            "text/plain": [
              "1"
            ]
          },
          "metadata": {
            "tags": []
          },
          "execution_count": 18
        }
      ]
    },
    {
      "metadata": {
        "id": "4-o3u0Vgf0mV",
        "colab_type": "code",
        "colab": {}
      },
      "cell_type": "code",
      "source": [
        ""
      ],
      "execution_count": 0,
      "outputs": []
    },
    {
      "metadata": {
        "id": "3xrBmZ2ZMNbO",
        "colab_type": "text"
      },
      "cell_type": "markdown",
      "source": [
        "##** 4.1 computing the parity of a word **\n",
        "\n",
        "  input: a word\n",
        "\n",
        "  output: parity of the word\n",
        "\n",
        "1. brute force: check bit by bit \n",
        "  \n",
        "  (time O(n) with n being word size)\n",
        "2. use the trick: x&(x-1) = x with its lowest bit erased \n",
        "\n",
        "  (time O(k) with k= # of 1 in the word)\n",
        "3. parity of (AB) is the same as parity of (A)^(B). iterate to the last bit and extract it by &(0b1)\n",
        "\n",
        "  (time O(log n) with word size n)"
      ]
    },
    {
      "metadata": {
        "id": "4ZUbJNMpP3SQ",
        "colab_type": "code",
        "colab": {}
      },
      "cell_type": "code",
      "source": [
        "def parity(x):\n",
        "  # brute force time O(n)\n",
        "  result = 0\n",
        "  while x:\n",
        "    result ^= x & 1   # x&1=1 if x=1 =0 if x=0 check the last bit is 0 or 1 # x^0=x, x^1=~x change parity\n",
        "    x >>= 1  # x=x/2\n",
        "  return result"
      ],
      "execution_count": 0,
      "outputs": []
    },
    {
      "metadata": {
        "id": "oyg-6_2mSaKx",
        "colab_type": "code",
        "colab": {}
      },
      "cell_type": "code",
      "source": [
        "def parity1(x):\n",
        "  result = 0 \n",
        "  while x:\n",
        "    result ^=1\n",
        "    x = x&(x-1) # drops the lowest set bit of x\n",
        "  return result"
      ],
      "execution_count": 0,
      "outputs": []
    },
    {
      "metadata": {
        "id": "1LFC6IFIj-f7",
        "colab_type": "code",
        "colab": {}
      },
      "cell_type": "code",
      "source": [
        "def parity2(x):\n",
        "  x ^= x>>32\n",
        "  x ^= x>>16\n",
        "  x ^= x>>8\n",
        "  x ^= x>>4\n",
        "  x ^= x>>2\n",
        "  x ^= x>>1\n",
        "  return x & 0b1"
      ],
      "execution_count": 0,
      "outputs": []
    },
    {
      "metadata": {
        "id": "l4-ifTEQdBR7",
        "colab_type": "text"
      },
      "cell_type": "markdown",
      "source": [
        "## **bitwise operation **\n",
        "\n",
        "1. bin(x)\n",
        "\n",
        "  bin(6) = '0b110'\n",
        "  \n",
        "  bin(6)[2:]  = '110'\n",
        "\n",
        "2. 0xFFFF is the number FFFF in hexadecimal number system (i.e base 16 number system ) = 1+15+15\\**2 +15\\**3\n",
        "\n",
        "3. 0b11 used to mask the last two digits\n",
        "\n",
        "4. x&(x-1) clears the lowst set bit in x\n",
        "\n",
        "5. x &~(x-1) extracts the lowest set bit of x"
      ]
    },
    {
      "metadata": {
        "id": "53BA7gy-akGD",
        "colab_type": "code",
        "outputId": "489ab7ae-d4df-4dea-84a4-5e3babf31cb0",
        "colab": {
          "base_uri": "https://localhost:8080/",
          "height": 34
        }
      },
      "cell_type": "code",
      "source": [
        "0xFFFF # 0xFFFF is the number FFFF in hexadecimal number system (i.e base 16 number system )"
      ],
      "execution_count": 0,
      "outputs": [
        {
          "output_type": "execute_result",
          "data": {
            "text/plain": [
              "65535"
            ]
          },
          "metadata": {
            "tags": []
          },
          "execution_count": 1
        }
      ]
    },
    {
      "metadata": {
        "id": "-uFBWCLhallW",
        "colab_type": "code",
        "outputId": "7bb22950-12cf-4fec-ed40-922eed3b75f3",
        "colab": {
          "base_uri": "https://localhost:8080/",
          "height": 34
        }
      },
      "cell_type": "code",
      "source": [
        "15+15*16+15*16**2+15*16**3"
      ],
      "execution_count": 0,
      "outputs": [
        {
          "output_type": "execute_result",
          "data": {
            "text/plain": [
              "65535"
            ]
          },
          "metadata": {
            "tags": []
          },
          "execution_count": 3
        }
      ]
    },
    {
      "metadata": {
        "id": "DziNEApsb45J",
        "colab_type": "code",
        "outputId": "92d0b418-84f3-4f00-e80f-4f8fb1fae3bf",
        "colab": {
          "base_uri": "https://localhost:8080/",
          "height": 34
        }
      },
      "cell_type": "code",
      "source": [
        "(2**16-1)"
      ],
      "execution_count": 0,
      "outputs": [
        {
          "output_type": "execute_result",
          "data": {
            "text/plain": [
              "65535"
            ]
          },
          "metadata": {
            "tags": []
          },
          "execution_count": 5
        }
      ]
    },
    {
      "metadata": {
        "id": "JDkTWkJzcjZW",
        "colab_type": "code",
        "outputId": "e52533f8-34c5-4467-887f-b1544dded5e8",
        "colab": {
          "base_uri": "https://localhost:8080/",
          "height": 34
        }
      },
      "cell_type": "code",
      "source": [
        "0b1"
      ],
      "execution_count": 0,
      "outputs": [
        {
          "output_type": "execute_result",
          "data": {
            "text/plain": [
              "1"
            ]
          },
          "metadata": {
            "tags": []
          },
          "execution_count": 10
        }
      ]
    },
    {
      "metadata": {
        "id": "QPVMJ79IfaZR",
        "colab_type": "code",
        "colab": {}
      },
      "cell_type": "code",
      "source": [
        ""
      ],
      "execution_count": 0,
      "outputs": []
    },
    {
      "metadata": {
        "id": "m-Zc-0wfvRf4",
        "colab_type": "text"
      },
      "cell_type": "markdown",
      "source": [
        "## **4.2 swap bits **\n",
        "  \n",
        "  input: 64 bit integer\n",
        "  \n",
        "  output: swap the bits at indices i and j\n",
        "  (0: least significant bit; 63 most significant bit)\n",
        "\n",
        "1. brute force:\n",
        "\n",
        "  use bitmasks to extract i and j bits\n",
        "  \n",
        "2. first test if bits to be swaped differ. if no, swap does nothing. if yes, swaping = flipping two bits\n",
        "\n",
        "  (time O(1) independent of word size)"
      ]
    },
    {
      "metadata": {
        "id": "vuwNDXY1eS8M",
        "colab_type": "code",
        "colab": {}
      },
      "cell_type": "code",
      "source": [
        "def swap_bits(x,i,j):\n",
        "  ibit = x>>i & 1\n",
        "  jbit = x>>j & 1\n",
        "  maski = 1<<i\n",
        "  maskj = 1<<j\n",
        "  return (x & (~maski) & (~maskj))|(jbit<<i&maski)|(ibit<<j&maskj)"
      ],
      "execution_count": 0,
      "outputs": []
    },
    {
      "metadata": {
        "id": "KSgj5K24xtKz",
        "colab_type": "code",
        "colab": {}
      },
      "cell_type": "code",
      "source": [
        "def swap_bits1(x,i,j):\n",
        "  # extract i-th and j-th bits and see if they differ\n",
        "  if (x>>i) &1 != (x>>j)&1:\n",
        "    # if differ, swap = flip\n",
        "    # select bits to flip with bit_mask \n",
        "    # use XOR to flip\n",
        "    bit_mask = (1<<i) |(1<<j)\n",
        "    x^= bit_mask\n",
        "  return x"
      ],
      "execution_count": 0,
      "outputs": []
    },
    {
      "metadata": {
        "id": "XKqrDX0efrot",
        "colab_type": "code",
        "outputId": "ca1c1b2f-5ca7-4587-b4f6-a07b3a355b19",
        "colab": {
          "base_uri": "https://localhost:8080/",
          "height": 50
        }
      },
      "cell_type": "code",
      "source": [
        "print(swap_bits(161,2,5))\n",
        "print(swap_bits1(161,2,5))"
      ],
      "execution_count": 0,
      "outputs": [
        {
          "output_type": "stream",
          "text": [
            "133\n",
            "133\n"
          ],
          "name": "stdout"
        }
      ]
    },
    {
      "metadata": {
        "id": "csYfHDcHWT9o",
        "colab_type": "text"
      },
      "cell_type": "markdown",
      "source": [
        "## ** Modify a bit at a given position ** [link](https://www.geeksforgeeks.org/modify-bit-given-position/)\n",
        "\n",
        "input: Given a number n, a position p and a binary value b \n",
        "output: we need to change the bit at position p in n to value b.\n",
        "\n",
        "  We first create a mask that has set bit only at given position using bit wise shift.\n",
        "  \n",
        "      mask = 1 << position\n",
        "\n",
        "Then to change value of bit to b, we first make it 0 using below operation\n",
        "\n",
        "      n & ~mask\n",
        "\n",
        "After changing it 0, we change it to b by doing or of above expression with following (b << p) & mask, i.e., we return\n",
        "\n",
        "      (n & ~mask) | ((b << p) & mask)"
      ]
    },
    {
      "metadata": {
        "id": "u19fbcK0XFei",
        "colab_type": "code",
        "outputId": "99c39d8e-9bc6-48c5-e7eb-82cfad857af2",
        "colab": {
          "base_uri": "https://localhost:8080/",
          "height": 50
        }
      },
      "cell_type": "code",
      "source": [
        "# Python3 program to modify a bit at position \n",
        "# p in n to b. \n",
        "  \n",
        "# Returns modified n. \n",
        "def modifyBit( n,  p,  b): \n",
        "    mask = 1 << p \n",
        "    return (n & ~mask) | ((b << p) & mask) \n",
        "   \n",
        "# Driver code \n",
        "def main(): \n",
        "    print(modifyBit(6, 2, 0)) \n",
        "    print(modifyBit(6, 5, 1)) \n",
        "      \n",
        "if __name__ == '__main__': \n",
        "    main() \n",
        "# This code is contributed by PrinciRaj1992 "
      ],
      "execution_count": 0,
      "outputs": [
        {
          "output_type": "stream",
          "text": [
            "2\n",
            "38\n"
          ],
          "name": "stdout"
        }
      ]
    },
    {
      "metadata": {
        "id": "2JLCqLWkXiUg",
        "colab_type": "code",
        "colab": {}
      },
      "cell_type": "code",
      "source": [
        ""
      ],
      "execution_count": 0,
      "outputs": []
    },
    {
      "metadata": {
        "id": "fXIFZTnAgXMF",
        "colab_type": "text"
      },
      "cell_type": "markdown",
      "source": [
        "## **4.3 reverse bits **\n",
        "\n",
        "input: 64-bit unsigned integer\n",
        "output: 64-bit unsigned integer with bits in reverse order\n",
        "\n",
        "1. brute force: iterate through 32 least significant bits of input, swap each with the corresponding most significant bit\n",
        "\n",
        "2. lookup table A[y] gives the bit-reversal of y. Given x =<y3,y2,y1,y0> with yi 16 bit integers, return <A[y0],A[y1],A[y2],A[y3]>\n",
        "\n",
        "  (time O(n/L) with n-bit integer and L-bit cache keys)"
      ]
    },
    {
      "metadata": {
        "id": "k_QnyTpVkgk9",
        "colab_type": "code",
        "colab": {}
      },
      "cell_type": "code",
      "source": [
        "def reverse_bits(x):\n",
        "  mask_size = 16\n",
        "  mask = 0xFFFF\n",
        "  return (rev[x & mask]<<(3*mask_size) | rev[(x>>mask_size)&mask]<<(2*mask_size) \\\n",
        "rev[(x>>2*mask_size)&mask]<<mask_size | rev[(x>>3*mask_size)&mask])"
      ],
      "execution_count": 0,
      "outputs": []
    },
    {
      "metadata": {
        "id": "cgCj_YwRlh-K",
        "colab_type": "text"
      },
      "cell_type": "markdown",
      "source": [
        "## ** 4.4 find a closest integer with the same weight **\n",
        "\n",
        "input: a nonnegative integer x\n",
        "output: a number y, not equal x, has the same weight as x and |y-x| is as small as possible. weight of x = # of 1 in bin(x)\n",
        "\n",
        "1. brute-force: try x-1, x+1,x-2,x+2...stop as we encounter one with the same weight as x. Poor... say x=2\\**30 need to search all integers between2\\**30 and 2\\**29 and between 2\\**30 and 2\\**30 + 2\\**29-1\n",
        "\n",
        "2. y=x(flip k1-bit and flip k2-bit with k1>k2). then |x-y|=2\\**k1-2\\**k2 which is min if we make k1 as small as possible and k2 as close to k1\n",
        "\n",
        "  to preserve weight-> k1 and k2 have different bit\n",
        "  -> smalles k1: rightmost bit that's different from LSB\n",
        "  -> k2: the very next bit\n",
        "  ->swap the two rightmost sonsecutive bits that differ\n",
        "  \n",
        "  time (n) with integer width n\n",
        "  "
      ]
    },
    {
      "metadata": {
        "id": "PoGMEFu_Jz5d",
        "colab_type": "code",
        "colab": {}
      },
      "cell_type": "code",
      "source": [
        "def closest_int_same_bit_count(x):\n",
        "  num_bits = 64\n",
        "  for i in range(num_bits-1):\n",
        "    if (x>>i)&1 != (x>>(i+1))&1:\n",
        "      x = x ^ (1<<i)|(1<<(i+1)) # swap bit-i and bit-(i+1)\n",
        "      return x\n",
        "  # raise error if all bits of x are 0 or 1\n",
        "  raise ValueError('All bits are 0 or 1')"
      ],
      "execution_count": 0,
      "outputs": []
    },
    {
      "metadata": {
        "id": "WBU9OCKT-ihD",
        "colab_type": "text"
      },
      "cell_type": "markdown",
      "source": [
        "## number swap\n",
        "swap two integers i and j withut using additional space\n",
        "\n",
        "1. store i+j in i, change j to i's value and then change i to j's value\n",
        "\n",
        "2. use ^ and x^x=0 and 0^x=x"
      ]
    },
    {
      "metadata": {
        "id": "kPmb47Qb_J7U",
        "colab_type": "code",
        "colab": {}
      },
      "cell_type": "code",
      "source": [
        "def swap(i,j):\n",
        "  i = i+j\n",
        "  j = i-j\n",
        "  i = i-j\n",
        "  return i,j\n",
        "  "
      ],
      "execution_count": 0,
      "outputs": []
    },
    {
      "metadata": {
        "id": "lgbJUU_c_fwR",
        "colab_type": "code",
        "colab": {}
      },
      "cell_type": "code",
      "source": [
        "def swap1(i,j):\n",
        "  i = i^j\n",
        "  j = j^i # j = j^(i^j) = i\n",
        "  i = i^j # (i^i)^j = j \n",
        "  # show using ^ is commutative and i^i=0\n",
        "  "
      ],
      "execution_count": 0,
      "outputs": []
    },
    {
      "metadata": {
        "id": "y5mMyF-sK0cE",
        "colab_type": "text"
      },
      "cell_type": "markdown",
      "source": [
        "## 4.5 compute x \\* y without arithmetical operators\n",
        "\n",
        "  input: 2 integers >0\n",
        "\n",
        "  output: product of them\n",
        "\n",
        "1. brute-force: repeat addition but we can't use add operator\n",
        "\n",
        "2. result = 0 and iterate through bits of x, adding x\\**k y to the result if kth bit of x is 1\n",
        "\n",
        "  - 2\\**k y = y<<k\n",
        "  - addition bit-by-bit using |            \n",
        "  - carry 1 if 1+1"
      ]
    },
    {
      "metadata": {
        "id": "Hw3qWAUwRFIF",
        "colab_type": "code",
        "colab": {}
      },
      "cell_type": "code",
      "source": [
        "def multiply(x,y):\n",
        "  def add(a,b):\n",
        "    running_sum, carryin, k, ta, tb = 0, 0, 1, a, b\n",
        "    while ta or tb: # run through a and b. ta, tb are counter\n",
        "      ak, bk = a&k, b&k # bit-k of a and b\n",
        "      carryout = (ak & bk)| (ak & carryin)| (bk & carryin) # parity of carry to bit-(k+1)\n",
        "      running_sum = running_sum |(ak^bk^carryin) # parity of bit-k\n",
        "      carryin, k, ta, tb = (carryout<<1, k<<1, ta>>1, tb>>1) \n",
        "    return running_sum|carryin\n",
        "    \n",
        "  running_sum = 0\n",
        "  while x: # examine each bit of x\n",
        "    if x&1:\n",
        "      running_sum = add(running_sum, y)\n",
        "    x, y = x>>1, y<<1\n",
        "  return running_sum"
      ],
      "execution_count": 0,
      "outputs": []
    },
    {
      "metadata": {
        "id": "xhJulRZ3T1K-",
        "colab_type": "code",
        "outputId": "1e3a444d-b6be-48c4-e86e-77c92f671d44",
        "colab": {
          "base_uri": "https://localhost:8080/",
          "height": 35
        }
      },
      "cell_type": "code",
      "source": [
        "bin(13)\n",
        "[bin(13&(1<<x)) for x in range(4)]"
      ],
      "execution_count": 0,
      "outputs": [
        {
          "output_type": "execute_result",
          "data": {
            "text/plain": [
              "['0b1', '0b0', '0b100', '0b1000']"
            ]
          },
          "metadata": {
            "tags": []
          },
          "execution_count": 12
        }
      ]
    },
    {
      "metadata": {
        "id": "r-89oL_AT3y7",
        "colab_type": "code",
        "outputId": "f9cfcc91-508a-44e1-d841-5d638051fef4",
        "colab": {
          "base_uri": "https://localhost:8080/",
          "height": 35
        }
      },
      "cell_type": "code",
      "source": [
        "bin(13)"
      ],
      "execution_count": 0,
      "outputs": [
        {
          "output_type": "execute_result",
          "data": {
            "text/plain": [
              "'0b1101'"
            ]
          },
          "metadata": {
            "tags": []
          },
          "execution_count": 10
        }
      ]
    },
    {
      "metadata": {
        "id": "nQGk6-cTUSJJ",
        "colab_type": "code",
        "outputId": "4b8dc796-9281-40d3-bc36-921831315afa",
        "colab": {
          "base_uri": "https://localhost:8080/",
          "height": 35
        }
      },
      "cell_type": "code",
      "source": [
        "multiply(10,23)"
      ],
      "execution_count": 0,
      "outputs": [
        {
          "output_type": "execute_result",
          "data": {
            "text/plain": [
              "230"
            ]
          },
          "metadata": {
            "tags": []
          },
          "execution_count": 29
        }
      ]
    },
    {
      "metadata": {
        "id": "z-Csmgi-VMKC",
        "colab_type": "code",
        "outputId": "384a04d2-0b4e-49cf-ccde-cf2c821fb0cf",
        "colab": {
          "base_uri": "https://localhost:8080/",
          "height": 35
        }
      },
      "cell_type": "code",
      "source": [
        "multiply(10,5)"
      ],
      "execution_count": 0,
      "outputs": [
        {
          "output_type": "execute_result",
          "data": {
            "text/plain": [
              "50"
            ]
          },
          "metadata": {
            "tags": []
          },
          "execution_count": 30
        }
      ]
    },
    {
      "metadata": {
        "id": "JztULFaiVsX3",
        "colab_type": "code",
        "colab": {}
      },
      "cell_type": "code",
      "source": [
        ""
      ],
      "execution_count": 0,
      "outputs": []
    },
    {
      "metadata": {
        "id": "t6NYLmPP82cx",
        "colab_type": "text"
      },
      "cell_type": "markdown",
      "source": [
        "## 4.6 compute x/y\n",
        "  input: two positive integers\n",
        "  \n",
        "  output: their quotient\n",
        "  \n",
        "  - brute-froce: subtract y from x iteratively until the remain <y\n",
        "                                                                   \n",
        "  - express quotient in terms of binary\n",
        "    - compute largest k s.t. 2\\**k y <=x, subtract 2\\**k y from x, add 2\\**k to the quotient\n",
        "    - in subsequent iterations, test 2\\**(k-1)y, 2\\**(k-2) y,... with x\n",
        "    "
      ]
    },
    {
      "metadata": {
        "id": "reg44rxKD6B2",
        "colab_type": "code",
        "colab": {}
      },
      "cell_type": "code",
      "source": [
        "def divide(x,y):\n",
        "  result, power= 0, 32\n",
        "  y_power = y<<power\n",
        "  while x>=y:\n",
        "    while y_power>x: # get max k\n",
        "      y_power >>= 1\n",
        "      power -= 1\n",
        "      \n",
        "    result += 1<<power\n",
        "    x -= y_power\n",
        "  return result,x,result*y+x # quotient, remainder, original x"
      ],
      "execution_count": 0,
      "outputs": []
    },
    {
      "metadata": {
        "id": "ZjHY5BKmGKN7",
        "colab_type": "code",
        "outputId": "ea719ac2-857a-441d-83bc-3ed70f267f59",
        "colab": {
          "base_uri": "https://localhost:8080/",
          "height": 34
        }
      },
      "cell_type": "code",
      "source": [
        "divide(143,37)"
      ],
      "execution_count": 0,
      "outputs": [
        {
          "output_type": "execute_result",
          "data": {
            "text/plain": [
              "(3, 32, 143)"
            ]
          },
          "metadata": {
            "tags": []
          },
          "execution_count": 41
        }
      ]
    },
    {
      "metadata": {
        "id": "sqCGekURHE5o",
        "colab_type": "text"
      },
      "cell_type": "markdown",
      "source": [
        "## 4.7 compute x^y\n",
        "\n",
        "  input: a double x and an integer y\n",
        "  output: x^y\n",
        "  \n",
        "  - brute-force: x*x*x*x... y-1 muliplications\n",
        "  \n",
        "  - write y in terms of bin(y) and let y be positive\n",
        "    -  x^y= x^(y0+y1\\*2+y2\\*2^2+..)=x^y0\\* (x^2)^y1 * (x^4)^y2 *...\n",
        "    - result is (x^(y/2))^2 if LSB of y is 0\n",
        "    - x \\* (x^(y/2))^2 if LSB of y is 1\n",
        "    - if y is negative: replace x by 1/x and y by -y\n",
        "    - time O(n) with n the number of bits of y"
      ]
    },
    {
      "metadata": {
        "id": "bR1mVvYLGMN7",
        "colab_type": "code",
        "colab": {}
      },
      "cell_type": "code",
      "source": [
        "def power(x,y):\n",
        "  result, power = 1.0, y\n",
        "  if y<0:\n",
        "    power, x = -power, 1.0/x\n",
        "  while power:\n",
        "    if power&1:\n",
        "      result *= x\n",
        "    power, x = power>>1, x*x\n",
        "  return result"
      ],
      "execution_count": 0,
      "outputs": []
    },
    {
      "metadata": {
        "id": "ua4I9F7Vb_-B",
        "colab_type": "code",
        "outputId": "e38a3407-13dc-4878-b87d-68e688b87ec1",
        "colab": {
          "base_uri": "https://localhost:8080/",
          "height": 34
        }
      },
      "cell_type": "code",
      "source": [
        "power(2,10)"
      ],
      "execution_count": 0,
      "outputs": [
        {
          "output_type": "execute_result",
          "data": {
            "text/plain": [
              "1024.0"
            ]
          },
          "metadata": {
            "tags": []
          },
          "execution_count": 43
        }
      ]
    },
    {
      "metadata": {
        "id": "qzQ8hDaPcFmG",
        "colab_type": "text"
      },
      "cell_type": "markdown",
      "source": [
        "## 4.8 reverse digits\n",
        "\n",
        "  input: an integer\n",
        "  \n",
        "  output: an integer with digits of the input in reversed order e.g. 42->24, -314->-413\n",
        "  \n",
        "  - brute-force: convert input to a string and traverse the string from back to front\n",
        "  \n",
        "  - write integer k in base 10 = k0+ k1\\*10+k2\\*10^2+...\n",
        "  e.g. k=1132, k0=k mod 10=2, 1132/10=113, k1=113 mod 10=3, 113/10=11, k2=11 mod 10 =1, 11/10=1 k3=1\n",
        "  -k<0, solve |k| and aplly the sign to the result "
      ]
    },
    {
      "metadata": {
        "id": "H9tx1pF0cCgI",
        "colab_type": "code",
        "outputId": "ee5cf606-731d-46c7-c96f-bd658df4fd02",
        "colab": {
          "base_uri": "https://localhost:8080/",
          "height": 50
        }
      },
      "cell_type": "code",
      "source": [
        "def reverse(x):\n",
        "  result, x_remaining = 0, abs(x)\n",
        "  while x_remaining:\n",
        "    result = result*10+x_remaining %10\n",
        "    x_remaining //= 10\n",
        "  return -result if x<0 else result\n",
        "\n",
        "# Driver code \n",
        "def main(): \n",
        "    print(reverse(123456)) \n",
        "    print(reverse(-654321)) \n",
        "      \n",
        "if __name__ == '__main__': \n",
        "    main() \n"
      ],
      "execution_count": 0,
      "outputs": [
        {
          "output_type": "stream",
          "text": [
            "654321\n",
            "-123456\n"
          ],
          "name": "stdout"
        }
      ]
    },
    {
      "metadata": {
        "id": "mo2UpAabfi3B",
        "colab_type": "code",
        "outputId": "701910e5-bc63-4f53-f019-778f1465a7b3",
        "colab": {
          "base_uri": "https://localhost:8080/",
          "height": 34
        }
      },
      "cell_type": "code",
      "source": [
        "1234//10"
      ],
      "execution_count": 0,
      "outputs": [
        {
          "output_type": "execute_result",
          "data": {
            "text/plain": [
              "123"
            ]
          },
          "metadata": {
            "tags": []
          },
          "execution_count": 46
        }
      ]
    },
    {
      "metadata": {
        "id": "UkriRWU3f2Re",
        "colab_type": "text"
      },
      "cell_type": "markdown",
      "source": [
        "## 4.9 check if a decimal integer is a palindrome\n",
        "\n",
        "  input: an integer\n",
        "  \n",
        "  output: true if input is a palindrome (read the same forwards and backwards) false otherwise\n",
        "  \n",
        "  - brute-force: convert input to a strign, pwirwise compare digits from LSD and MSD, work inwards, stop if a mismatch. time, space O(n) where n is number of digits in the input\n",
        "  \n",
        "  - iteratively compare the MSD and LSD, remove them from the input\n",
        "    - the number of digits n of input x is n =floor(lg_10 x) +1\n",
        "    - LSD=x mod 10\n",
        "    - MSD = x//10^(n-1)"
      ]
    },
    {
      "metadata": {
        "id": "hndceJnxfvhG",
        "colab_type": "code",
        "outputId": "dd3f5517-68c4-4d13-f8ec-904c7bfaba41",
        "colab": {
          "base_uri": "https://localhost:8080/",
          "height": 67
        }
      },
      "cell_type": "code",
      "source": [
        "import math\n",
        "\n",
        "def is_palindrome_number(x):\n",
        "  if x<=0:\n",
        "    return x==0\n",
        "  \n",
        "  num_digits = math.floor(math.log10(x))+1 # base 10\n",
        "  mask = 10**(num_digits -1)\n",
        "  for i in range(num_digits//2):\n",
        "    if x // mask != x % 10:\n",
        "      return False\n",
        "    x %= mask # remove MSD of x\n",
        "    x //= 10 # remove LSD of x\n",
        "    mask /= 100 # note remove 2 digits each time\n",
        "  return True\n",
        "\n",
        "# Driver code \n",
        "def main(): \n",
        "    print(is_palindrome_number(151751)) \n",
        "    print(is_palindrome_number(157751))\n",
        "    print(is_palindrome_number(-157751)) \n",
        "      \n",
        "if __name__ == '__main__': \n",
        "    main() "
      ],
      "execution_count": 0,
      "outputs": [
        {
          "output_type": "stream",
          "text": [
            "False\n",
            "True\n",
            "False\n"
          ],
          "name": "stdout"
        }
      ]
    },
    {
      "metadata": {
        "id": "IZqzJdUpnvJ5",
        "colab_type": "text"
      },
      "cell_type": "markdown",
      "source": [
        "## 4.10 generate uniform random numbers\n",
        "\n",
        "  input: two integers a\\<b (zero_one_random() is provided which produces 0 or 1 with equal probability)\n",
        "                          \n",
        "  output: a uniform random number in [a,b]   \n",
        "  \n",
        "  - if [0, 2^i-1]: concatenate i bits produced by the random number generators\n",
        "  \n",
        "  - [a,b]->a+[0,b-a]\n",
        "  \n",
        "  - if b-a is not of the form 2^i-1\n",
        "    - find smallest 2^i-1 > b-a\n",
        "    - generate i-bit random number\n",
        "    - if within [0,b-a], return it, otherwise try again until get a numberwithin the range\n",
        "    - time O(log(b-a+1))\n",
        "  "
      ]
    },
    {
      "metadata": {
        "id": "QtLCIw8NnW6X",
        "colab_type": "code",
        "colab": {}
      },
      "cell_type": "code",
      "source": [
        "def uniform_random(lower_bound, upper_bound):\n",
        "  number_of_outcomes = upper_bound - lower_bound +1\n",
        "  while True:\n",
        "    result, i =0, 0\n",
        "    while(1<<i) < number_of_outcomes:\n",
        "      # zero_one_random() is the provided random number generator\n",
        "      result = (result<<1) | zero_one_random() # generate a rm 0 or 1 in LSD\n",
        "      i += 1\n",
        "    if result<number_of_outcomes:\n",
        "      break\n",
        "  return result + lower_bound"
      ],
      "execution_count": 0,
      "outputs": []
    },
    {
      "metadata": {
        "id": "0N_0nHrf0Urb",
        "colab_type": "text"
      },
      "cell_type": "markdown",
      "source": [
        "## 4.11 rectangle intersection\n",
        "\n",
        "  input: two rectangles\n",
        "  \n",
        "  output: rectangle formed by their intersection\n",
        "  \n",
        "  \n",
        "    - when the rectangles do not intersect"
      ]
    },
    {
      "metadata": {
        "id": "gAOJ62x36oPU",
        "colab_type": "text"
      },
      "cell_type": "markdown",
      "source": [
        "# Arrays"
      ]
    },
    {
      "metadata": {
        "id": "bff9ie7p6ugC",
        "colab_type": "text"
      },
      "cell_type": "markdown",
      "source": [
        "## Array boot camp\n",
        "\n",
        "- simple brute-force solutions use O(n) space\n",
        "\n",
        "- [3,4,5], [1]+[0]*10=[1, 0, 0, 0, 0, 0, 0, 0, 0, 0, 0], list(range(3))=[0,1,2]\n",
        "- len(A), A.append(42), A.remove(4), A.insert(3,28)\n",
        "- 2d array[[1,2],[3,4]]\n",
        "- a in A if a is in array A\n",
        "- min(A), max(A)\n",
        "- for a sorted list A, bisect.bisect_left(A,6) (The returned insertion point i partitions the array a into two halves so that all(val < x for val in a[lo:i]) for the left side and all(val >= x for val in a[i:hi]) for the right side.), \n",
        "- bisect.bisect_right(A,6) or bisect.bisect(A,6)   (returns an insertion point which comes after (to the right of) any existing entries of x in a.)\n",
        "- A.reverse() (inplace), reversed(A) (return an iterator)\n",
        "- A.sort() (inplace), sorte(A) (return a copy)\n",
        "- del A[i] (delete ith element), del A[i,j] (remove the slice)\n",
        "- A[i,j,k] slice between i and j(exclusive) with span k\n",
        "- A[::-1] (reverse list)\n",
        "- A[k:]+A[:k] rotates A by k to the left\n",
        "- B=A[;] does a shallow copy of A into B\n",
        "- [x\\**2 for x in range(6)], [x\\**2 for x in range(6) if x%2==0]\n",
        "-[(x,y) for x in A for y in B]\n",
        "- M 2d list->1d list [x for row in M for x in row]\n",
        "\n"
      ]
    },
    {
      "metadata": {
        "id": "Exnsq_vsECa6",
        "colab_type": "code",
        "outputId": "5b427c9e-05e9-425b-e480-a4ef836dfcf1",
        "colab": {
          "base_uri": "https://localhost:8080/",
          "height": 35
        }
      },
      "cell_type": "code",
      "source": [
        "list(range(3))"
      ],
      "execution_count": 0,
      "outputs": [
        {
          "output_type": "execute_result",
          "data": {
            "text/plain": [
              "[0, 1, 2]"
            ]
          },
          "metadata": {
            "tags": []
          },
          "execution_count": 2
        }
      ]
    },
    {
      "metadata": {
        "id": "EhcQI9IvEFIF",
        "colab_type": "code",
        "colab": {}
      },
      "cell_type": "code",
      "source": [
        "a=[[1,2],[3,4]]\n"
      ],
      "execution_count": 0,
      "outputs": []
    },
    {
      "metadata": {
        "id": "Yt8O4HJCEeGo",
        "colab_type": "code",
        "outputId": "ff0c2e29-9642-495e-a77e-94fa499b5748",
        "colab": {
          "base_uri": "https://localhost:8080/",
          "height": 35
        }
      },
      "cell_type": "code",
      "source": [
        "b=a\n",
        "b\n"
      ],
      "execution_count": 0,
      "outputs": [
        {
          "output_type": "execute_result",
          "data": {
            "text/plain": [
              "[[1, 2], [3, 4]]"
            ]
          },
          "metadata": {
            "tags": []
          },
          "execution_count": 14
        }
      ]
    },
    {
      "metadata": {
        "id": "qO2gAok6FFXF",
        "colab_type": "code",
        "outputId": "1419ad27-ad3c-4cdd-872d-4825b55cd0a3",
        "colab": {
          "base_uri": "https://localhost:8080/",
          "height": 35
        }
      },
      "cell_type": "code",
      "source": [
        "b=a[:]\n",
        "b"
      ],
      "execution_count": 0,
      "outputs": [
        {
          "output_type": "execute_result",
          "data": {
            "text/plain": [
              "[[1, 2], [3, 4]]"
            ]
          },
          "metadata": {
            "tags": []
          },
          "execution_count": 15
        }
      ]
    },
    {
      "metadata": {
        "id": "DihRvoxzFuwm",
        "colab_type": "code",
        "outputId": "cd6973b2-27cf-4e70-8ab8-cf03e320eb5e",
        "colab": {
          "base_uri": "https://localhost:8080/",
          "height": 35
        }
      },
      "cell_type": "code",
      "source": [
        "M=[[10,20],[30,40]]\n",
        "[x for row in M for x in row]\n",
        "# [x for x in row for row in M] (error: name 'row' is not defined)"
      ],
      "execution_count": 0,
      "outputs": [
        {
          "output_type": "execute_result",
          "data": {
            "text/plain": [
              "[10, 20, 30, 40]"
            ]
          },
          "metadata": {
            "tags": []
          },
          "execution_count": 18
        }
      ]
    },
    {
      "metadata": {
        "id": "tOB0YacONyyA",
        "colab_type": "code",
        "outputId": "a6df806f-a345-449a-e8e6-e75e9cff1a1e",
        "colab": {
          "base_uri": "https://localhost:8080/",
          "height": 90
        }
      },
      "cell_type": "code",
      "source": [
        "import bisect\n",
        "data = [('red', 5), ('blue', 1), ('yellow', 8), ('black', 0)]\n",
        "data.sort(key=lambda r: r[1])\n",
        "print(data)\n",
        "keys = [r[1] for r in data]\n",
        "print(keys)\n",
        "print(data[bisect.bisect_left(keys, 0)]) # left to 0 so return 0\n",
        "print(data[bisect.bisect_left(keys, 1)]) # left to 1 so return 1\n",
        "print(data[bisect.bisect_right(keys, 1)]) # right to 1 so return 2\n",
        "print(data[bisect.bisect(keys, 1)]) # same as bisect_right"
      ],
      "execution_count": 0,
      "outputs": [
        {
          "output_type": "stream",
          "text": [
            "[('black', 0), ('blue', 1), ('red', 5), ('yellow', 8)]\n",
            "[0, 1, 5, 8]\n",
            "('black', 0)\n"
          ],
          "name": "stdout"
        },
        {
          "output_type": "execute_result",
          "data": {
            "text/plain": [
              "('red', 5)"
            ]
          },
          "metadata": {
            "tags": []
          },
          "execution_count": 30
        }
      ]
    },
    {
      "metadata": {
        "id": "kmizEbQhQ0RM",
        "colab_type": "text"
      },
      "cell_type": "markdown",
      "source": [
        "The bisect() function can be useful for numeric table lookups. This example uses bisect() to look up a letter grade for an exam score (say) based on a set of ordered numeric breakpoints: 90 and up is an ‘A’, 80 to 89 is a ‘B’, and so on:"
      ]
    },
    {
      "metadata": {
        "id": "qjIJ-aHpOMdR",
        "colab_type": "code",
        "outputId": "3c506188-479f-4774-d9a0-588c7f694e28",
        "colab": {
          "base_uri": "https://localhost:8080/",
          "height": 35
        }
      },
      "cell_type": "code",
      "source": [
        "def grade(score, breakpoints=[60, 70, 80, 90], grades='FDCBA'):\n",
        "        i = bisect.bisect(breakpoints, score)\n",
        "        return grades[i]\n",
        "    \n",
        "[grade(score) for score in [33, 99, 77, 70, 89, 90, 100]]"
      ],
      "execution_count": 0,
      "outputs": [
        {
          "output_type": "execute_result",
          "data": {
            "text/plain": [
              "['F', 'A', 'C', 'C', 'B', 'A', 'A']"
            ]
          },
          "metadata": {
            "tags": []
          },
          "execution_count": 32
        }
      ]
    },
    {
      "metadata": {
        "id": "JUQ6qVWURYxL",
        "colab_type": "text"
      },
      "cell_type": "markdown",
      "source": [
        "## 5.1 the Dutch national flag problem\n",
        "\n",
        "  input : an array A and an index i\n",
        "  output: all elements<A[i]+elements=A[i]+elements>A[i]\n",
        "  \n",
        "  - brute-force: form three lists which less than, equal to and greater than the pivot. time O(n) and space O(n) where n = len(A)\n",
        "  \n",
        "  - space O(1) time O(n^2): first, iterate through A from index 0, move all elements < pivot to the start of A. second, move all elements > pivot to the end of A\n",
        "  \n",
        "  - space O(1) time O(n): single pass moves all element < pivot to the beginning. second pass moves larger elements to the end. use smaller and larger indices and iterate through A\n",
        "  \n",
        "  - space O(1), time O(n): maintain 4 subarrays: bottom(<pivot), middle(=pivot), unclassified and top(>pivot). Iterate through unclassified, move elements into one group according to the order between the incoming unclassified element and the pivot\n",
        "                                                              "
      ]
    },
    {
      "metadata": {
        "id": "sO7kP7OFkeUu",
        "colab_type": "code",
        "outputId": "060f3e75-0b82-4867-d547-6d4022751a53",
        "colab": {
          "base_uri": "https://localhost:8080/",
          "height": 54
        }
      },
      "cell_type": "code",
      "source": [
        "import sys\n",
        "import random\n",
        "\n",
        "def dutch_flag_partition(pivot_index, A):\n",
        "  pivot = A[pivot_index]\n",
        "  # First pass: group elements smaller than pivot\n",
        "  for i in range(len(A)):\n",
        "    # look for a smaller element\n",
        "    for j in range(i+1,len(A)):\n",
        "      if A[j] < pivot:\n",
        "          A[i], A[j] = A[j], A[i]\n",
        "          break\n",
        "  # Second pass: group elements larger than pivot\n",
        "  for i in reversed(range(len(A))):\n",
        "    if A[i] < pivot:\n",
        "      break\n",
        "      # look for a larger element. stop when we reach an element <pivot since \n",
        "      # first pass has moved them to the start of A\n",
        "      for j in reversed(range(i)):\n",
        "        if A[j]>pivot:\n",
        "          A[i], A[j] = A[j], A[i]\n",
        "          break\n",
        "          \n",
        "# Driver code \n",
        "def main(): \n",
        "    n = int(sys.argv[1]) if len(sys.argv) == 2 else random.randint(1, 15)\n",
        "    A = [random.randint(0, 3) for _ in range(n)]\n",
        "    pivot_index = random.randrange(n)\n",
        "    print(A,pivot_index)\n",
        "    dutch_flag_partition(pivot_index, A)\n",
        "    print(A)\n",
        "  \n",
        "\n",
        "\n",
        "if __name__ == '__main__':\n",
        "    main()"
      ],
      "execution_count": 0,
      "outputs": [
        {
          "output_type": "stream",
          "text": [
            "[3, 3, 3, 2, 1, 3, 2, 0, 2, 0] 6\n",
            "[1, 0, 0, 2, 3, 3, 2, 3, 2, 3]\n"
          ],
          "name": "stdout"
        }
      ]
    },
    {
      "metadata": {
        "id": "lGfAVkdGvNUD",
        "colab_type": "code",
        "outputId": "0111e226-7158-4293-bf1f-8f83c68e16e5",
        "colab": {
          "base_uri": "https://localhost:8080/",
          "height": 54
        }
      },
      "cell_type": "code",
      "source": [
        "def detch_flag_partition(pivot_index, A):\n",
        "  pivot = A[pivot_index]\n",
        "  # first pass: group elements smaller than pivot\n",
        "  smaller = 0\n",
        "  for i in range(len(A)):\n",
        "    if A[i]<pivot:\n",
        "      A[i],A[smaller]=A[smaller],A[i]\n",
        "      smaller +=1\n",
        "  # second pass: group elements larger than pivot\n",
        "  larger = len(A)-1\n",
        "  for i in reversed(range(len(A))):\n",
        "    if A[i]<pivot:\n",
        "      break\n",
        "    if A[i] >pivot:\n",
        "      A[i], A[larger]=A[larger],A[i]\n",
        "      larger -= 1\n",
        "    \n",
        "# Driver code \n",
        "def main(): \n",
        "    n = int(sys.argv[1]) if len(sys.argv) == 2 else random.randint(1, 15)\n",
        "    A = [random.randint(0, 3) for _ in range(n)]\n",
        "    pivot_index = random.randrange(n)\n",
        "    print(A,pivot_index)\n",
        "    dutch_flag_partition(pivot_index, A)\n",
        "    print(A)\n",
        "  \n",
        "\n",
        "\n",
        "if __name__ == '__main__':\n",
        "    main()"
      ],
      "execution_count": 0,
      "outputs": [
        {
          "output_type": "stream",
          "text": [
            "[1, 2, 0, 3, 2, 1, 3] 3\n",
            "[2, 0, 2, 1, 1, 3, 3]\n"
          ],
          "name": "stdout"
        }
      ]
    },
    {
      "metadata": {
        "id": "yR1Z74fIy8av",
        "colab_type": "code",
        "outputId": "9b113ea6-e1a9-4c46-d6a1-eabb1c6aec52",
        "colab": {
          "base_uri": "https://localhost:8080/",
          "height": 54
        }
      },
      "cell_type": "code",
      "source": [
        "def dutch_flag_partition(pivot_index, A):\n",
        "  pivot = A[pivot_index]\n",
        "  # keep the following invariants during partitioning\n",
        "  # bottom group: A[:smaller]\n",
        "  # middle group: A[smaller:equall]\n",
        "  # unclassified group: A[equal:larger]\n",
        "  # top group: A[larger:]\n",
        "  smaller, equal, larger= 0,0,len(A)\n",
        "  # keep iterating as long as there is an unclassified element\n",
        "  while equal < larger:\n",
        "    # A[equal] is the incoming unclassified element\n",
        "    if A[equal]<pivot:\n",
        "      A[smaller],A[equal]=A[equal],A[smaller]\n",
        "      smaller, equal = smaller +1, equal +1\n",
        "    elif A[equal]==pivot:\n",
        "      equal += 1\n",
        "    else: # A[equal]>pivot\n",
        "      A[equal],A[larger]=A[larger],A[equal]\n",
        "      larger -= 1\n",
        "      \n",
        "# Driver code \n",
        "def main(): \n",
        "    n = int(sys.argv[1]) if len(sys.argv) == 2 else random.randint(1, 15)\n",
        "    A = [random.randint(0, 3) for _ in range(n)]\n",
        "    pivot_index = random.randrange(n)\n",
        "    print(A,pivot_index)\n",
        "    dutch_flag_partition(pivot_index, A)\n",
        "    print(A)\n",
        "  \n",
        "\n",
        "\n",
        "if __name__ == '__main__':\n",
        "    main()"
      ],
      "execution_count": 0,
      "outputs": [
        {
          "output_type": "stream",
          "text": [
            "[0, 0, 3, 0, 3, 0, 3, 2, 3, 3, 3] 10\n",
            "[0, 0, 0, 0, 2, 3, 3, 3, 3, 3, 3]\n"
          ],
          "name": "stdout"
        }
      ]
    },
    {
      "metadata": {
        "id": "N0--A84JROyB",
        "colab_type": "code",
        "outputId": "5f23f0d0-53ac-43a5-c22e-1585191aa4ea",
        "colab": {
          "base_uri": "https://localhost:8080/",
          "height": 72
        }
      },
      "cell_type": "code",
      "source": [
        "for i in range(10):\n",
        "  for j in range(i+1, 10):\n",
        "    if j<4:\n",
        "      print([i,j])\n",
        "      break"
      ],
      "execution_count": 0,
      "outputs": [
        {
          "output_type": "stream",
          "text": [
            "[0, 1]\n",
            "[1, 2]\n",
            "[2, 3]\n"
          ],
          "name": "stdout"
        }
      ]
    },
    {
      "metadata": {
        "id": "hTmkVJQNZZVx",
        "colab_type": "code",
        "outputId": "91648c9d-1d13-4a7d-857a-1f7a92feace7",
        "colab": {
          "base_uri": "https://localhost:8080/",
          "height": 72
        }
      },
      "cell_type": "code",
      "source": [
        "for i in range (5):\n",
        "  if i==3:\n",
        "    break\n",
        "  print(i)"
      ],
      "execution_count": 0,
      "outputs": [
        {
          "output_type": "stream",
          "text": [
            "0\n",
            "1\n",
            "2\n"
          ],
          "name": "stdout"
        }
      ]
    },
    {
      "metadata": {
        "id": "YpS6iWKVgb1L",
        "colab_type": "code",
        "outputId": "5ec8b1df-4962-4a30-f44f-e210544bafa0",
        "colab": {
          "base_uri": "https://localhost:8080/",
          "height": 90
        }
      },
      "cell_type": "code",
      "source": [
        "for i in range (5):\n",
        "  if i==3:\n",
        "    continue\n",
        "  print(i)"
      ],
      "execution_count": 0,
      "outputs": [
        {
          "output_type": "stream",
          "text": [
            "0\n",
            "1\n",
            "2\n",
            "4\n"
          ],
          "name": "stdout"
        }
      ]
    },
    {
      "metadata": {
        "id": "m_HNKpSEg-hf",
        "colab_type": "code",
        "outputId": "26778590-2f9a-49fd-898b-d8cf139483b7",
        "colab": {
          "base_uri": "https://localhost:8080/",
          "height": 72
        }
      },
      "cell_type": "code",
      "source": [
        "for i in reversed(range(3)):\n",
        "  print(i)"
      ],
      "execution_count": 0,
      "outputs": [
        {
          "output_type": "stream",
          "text": [
            "2\n",
            "1\n",
            "0\n"
          ],
          "name": "stdout"
        }
      ]
    },
    {
      "metadata": {
        "id": "J-ytmFlBlZJa",
        "colab_type": "code",
        "outputId": "98698318-4b54-471e-b8e8-eb5fa711977e",
        "colab": {
          "base_uri": "https://localhost:8080/",
          "height": 35
        }
      },
      "cell_type": "code",
      "source": [
        "import random \n",
        "random.sample(range(1, 100), 3)\n"
      ],
      "execution_count": 0,
      "outputs": [
        {
          "output_type": "execute_result",
          "data": {
            "text/plain": [
              "[28, 90, 94]"
            ]
          },
          "metadata": {
            "tags": []
          },
          "execution_count": 46
        }
      ]
    },
    {
      "metadata": {
        "id": "T6qo651rnpSh",
        "colab_type": "text"
      },
      "cell_type": "markdown",
      "source": [
        "## random\n",
        "\n",
        "- random.randint(a, b)\n",
        "Return a random integer N such that a <= N <= b.\n",
        "- random.choice(seq)\n",
        "Return a random element from the non-empty sequence seq. If seq is empty, raises IndexError.\n",
        "- random.random()\n",
        "Return the next random floating point number in the range [0.0, 1.0).\n",
        "- random.choice(seq)\n",
        "Return a random element from the non-empty sequence seq. If seq is empty, raises IndexError.\n",
        "- "
      ]
    },
    {
      "metadata": {
        "id": "pX5WIiv9mDdS",
        "colab_type": "code",
        "colab": {}
      },
      "cell_type": "code",
      "source": [
        "import random\n",
        "random.random()        # Random float x, 0.0 <= x < 1.0\n",
        "#0.37444887175646646\n",
        "random.uniform(1, 10)  # Random float x, 1.0 <= x < 10.0\n",
        "#1.1800146073117523\n",
        "random.randint(1, 10)  # Integer from 1 to 10, endpoints included\n",
        "#7\n",
        "random.randrange(0, 101, 2)  # Even integer from 0 to 100\n",
        "#26\n",
        "random.choice('abcdefghij')  # Choose a random element\n",
        "#'c'\n",
        "\n",
        "items = [1, 2, 3, 4, 5, 6, 7]\n",
        "random.shuffle(items)\n",
        "items\n",
        "#[7, 3, 2, 5, 6, 4, 1]\n",
        "\n",
        "random.sample([1, 2, 3, 4, 5],  3)  # Choose 3 elements\n",
        "#[4, 1, 5]"
      ],
      "execution_count": 0,
      "outputs": []
    },
    {
      "metadata": {
        "id": "fUnCdaiNtX0G",
        "colab_type": "code",
        "colab": {}
      },
      "cell_type": "code",
      "source": [
        ""
      ],
      "execution_count": 0,
      "outputs": []
    },
    {
      "metadata": {
        "id": "k-dRxL4K0nB8",
        "colab_type": "text"
      },
      "cell_type": "markdown",
      "source": [
        "## 5.2 increment an arbitrary-precision integer\n",
        "\n",
        "  input: an arry of digits encoding a nonnegative decimal integer D\n",
        "  \n",
        "  output: an array representing the integer D+1\n",
        "  e.g. input = <1,2,9>, output=<1,3,0>\n",
        "  \n",
        "  - brute-force:covert the array into integer and then convert the result back to an array of digits. fail when input encodes integers outside the range of integer type (overflow)\n",
        "  \n",
        "  - add digits from the LSD and propagate carries\n",
        "    - time O(n) where n is len(A)\n",
        "  "
      ]
    },
    {
      "metadata": {
        "id": "sHCv49Sa3VB6",
        "colab_type": "code",
        "outputId": "a060e308-6796-4b6f-8e2d-77aa037a25b5",
        "colab": {
          "base_uri": "https://localhost:8080/",
          "height": 92
        }
      },
      "cell_type": "code",
      "source": [
        "def plus_one(A):\n",
        "  A[-1] += 1\n",
        "  for i in reversed(range(1,len(A))):\n",
        "    if A[i]!=10:\n",
        "      break\n",
        "    A[i]=0\n",
        "    A[i-1]+=1\n",
        "    \n",
        "  if A[0]==10:\n",
        "    # there is a carry-out, so we need one more digit to store the result\n",
        "    # append a 0 at the end of the array and update the first entry to 1\n",
        "    A[0]=1\n",
        "    A.append(0)\n",
        "  return A\n",
        "\n",
        "\n",
        "\n",
        "def rand_vector(length):\n",
        "    if not length:\n",
        "        return [0]\n",
        "    return [random.randint(1, 9)] + [random.randint(0, 9)\n",
        "                                     for _ in range(length - 1)]\n",
        "\n",
        "def small_test():\n",
        "    result = plus_one([9, 9])\n",
        "    assert result == [1, 0, 0]\n",
        "    result = plus_one([3, 1, 4])\n",
        "    assert result == [3, 1, 5]\n",
        "\n",
        "\n",
        "def main():\n",
        "    small_test()\n",
        "    n = int(sys.argv[1]) if len(sys.argv) == 2 else random.randint(0, 1000)\n",
        "    A = rand_vector(n)\n",
        "    print(*A, sep='')\n",
        "    result = plus_one(A)\n",
        "    print(*result, sep='')\n",
        "    print(*result,sep=',')\n",
        "    \n",
        "if __name__ == '__main__':\n",
        "    main()"
      ],
      "execution_count": 0,
      "outputs": [
        {
          "output_type": "stream",
          "text": [
            "8221815606897321454554455947702007899227617596642578972164186274152620572424894022091833171000345533307514576746099792989552712748680033753029105853480055724265949305342292204227483514128151144377667787750038303099138775966475635021615763892560814866651496012673028249768627126892440628859421879316834556184636645615078687954189679694162828892661331576001158688830757671597217951465045233317988734651071779049179250224759146222229763271760893791854966691295123798398152688989381781751656700237143530881339\n",
            "8221815606897321454554455947702007899227617596642578972164186274152620572424894022091833171000345533307514576746099792989552712748680033753029105853480055724265949305342292204227483514128151144377667787750038303099138775966475635021615763892560814866651496012673028249768627126892440628859421879316834556184636645615078687954189679694162828892661331576001158688830757671597217951465045233317988734651071779049179250224759146222229763271760893791854966691295123798398152688989381781751656700237143530881340\n",
            "8,2,2,1,8,1,5,6,0,6,8,9,7,3,2,1,4,5,4,5,5,4,4,5,5,9,4,7,7,0,2,0,0,7,8,9,9,2,2,7,6,1,7,5,9,6,6,4,2,5,7,8,9,7,2,1,6,4,1,8,6,2,7,4,1,5,2,6,2,0,5,7,2,4,2,4,8,9,4,0,2,2,0,9,1,8,3,3,1,7,1,0,0,0,3,4,5,5,3,3,3,0,7,5,1,4,5,7,6,7,4,6,0,9,9,7,9,2,9,8,9,5,5,2,7,1,2,7,4,8,6,8,0,0,3,3,7,5,3,0,2,9,1,0,5,8,5,3,4,8,0,0,5,5,7,2,4,2,6,5,9,4,9,3,0,5,3,4,2,2,9,2,2,0,4,2,2,7,4,8,3,5,1,4,1,2,8,1,5,1,1,4,4,3,7,7,6,6,7,7,8,7,7,5,0,0,3,8,3,0,3,0,9,9,1,3,8,7,7,5,9,6,6,4,7,5,6,3,5,0,2,1,6,1,5,7,6,3,8,9,2,5,6,0,8,1,4,8,6,6,6,5,1,4,9,6,0,1,2,6,7,3,0,2,8,2,4,9,7,6,8,6,2,7,1,2,6,8,9,2,4,4,0,6,2,8,8,5,9,4,2,1,8,7,9,3,1,6,8,3,4,5,5,6,1,8,4,6,3,6,6,4,5,6,1,5,0,7,8,6,8,7,9,5,4,1,8,9,6,7,9,6,9,4,1,6,2,8,2,8,8,9,2,6,6,1,3,3,1,5,7,6,0,0,1,1,5,8,6,8,8,8,3,0,7,5,7,6,7,1,5,9,7,2,1,7,9,5,1,4,6,5,0,4,5,2,3,3,3,1,7,9,8,8,7,3,4,6,5,1,0,7,1,7,7,9,0,4,9,1,7,9,2,5,0,2,2,4,7,5,9,1,4,6,2,2,2,2,2,9,7,6,3,2,7,1,7,6,0,8,9,3,7,9,1,8,5,4,9,6,6,6,9,1,2,9,5,1,2,3,7,9,8,3,9,8,1,5,2,6,8,8,9,8,9,3,8,1,7,8,1,7,5,1,6,5,6,7,0,0,2,3,7,1,4,3,5,3,0,8,8,1,3,4,0\n"
          ],
          "name": "stdout"
        }
      ]
    },
    {
      "metadata": {
        "id": "gBqEUbly7OWX",
        "colab_type": "text"
      },
      "cell_type": "markdown",
      "source": [
        "## 5.3 multiply two arbitrary-prevision integer\n",
        "\n",
        "  input: 2 arrays which represent two integers with one digit per array entry e.g. <-7,1,3>=-713\n",
        "  \n",
        "  output: an array representing their product\n",
        "  \n",
        "    - time O(nm): number of digits for the product is at most n+m for n and m diit operands"
      ]
    },
    {
      "metadata": {
        "id": "Hi5u_u_S6yJr",
        "colab_type": "code",
        "colab": {}
      },
      "cell_type": "code",
      "source": [
        "def multiply(num1, num2):\n",
        "  sign = -1 if (num1[0]<0) ^ (num2[0]<0) else 1\n",
        "  num1[0],num2[0]=abs(num1[0]),abs(num2[0])\n",
        "  \n",
        "  result = [0] *(len(num1)+len(num2))\n",
        "  for i in reversed(range(len(num1))):\n",
        "    for j in reversed(range(len(num2))):\n",
        "      result[i+j+1] += num1[i]*num2[j]\n",
        "      result[i+j] += result[i+j+1]//10\n",
        "      result[i+j+1] %= 10\n",
        "  # remove the leading zeroes\n",
        "  result = result[next((i for i,x in enumerate(result) if x !=0), len(result)):] or [0]\n",
        "  return [sign* result[0]] + result[1:]\n",
        "\n",
        "\n",
        "\n",
        "def simple_test():\n",
        "    assert multiply([0], [-1, 0, 0, 0]) == [0]\n",
        "    assert multiply([0], [1, 0, 0, 0]) == [0]\n",
        "    assert multiply([9], [9]) == [8, 1]\n",
        "    assert multiply([9], [9, 9, 9, 9]) == [8, 9, 9, 9, 1]\n",
        "    assert multiply([1, 3, 1, 4, 1, 2],[-1, 3, 1, 3, 3, 3, 2])==[-1, 7, 2, 5, 8, 7, 5, 8, 4, 7, 8, 4]\n",
        "    assert multiply([7, 3], [-3]) == [-2, 1, 9]\n",
        "\n",
        "\n",
        "def main():\n",
        "    simple_test()\n",
        "  \n",
        "if __name__ == '__main__':\n",
        "    main()"
      ],
      "execution_count": 0,
      "outputs": []
    },
    {
      "metadata": {
        "id": "fnklSNECCbjm",
        "colab_type": "text"
      },
      "cell_type": "markdown",
      "source": [
        "## next\n",
        "[next(iterator, default)](https://www.programiz.com/python-programming/methods/built-in/next)\n",
        "\n",
        "  - iterator - next() retrieves next item from the iterator\n",
        "\n",
        "  - default (optional) - this value is returned if the iterator is exhausted (no items left)"
      ]
    },
    {
      "metadata": {
        "id": "z_clRWjaCZXY",
        "colab_type": "code",
        "outputId": "c3071082-d07f-418c-fe76-0d45fc716f3b",
        "colab": {
          "base_uri": "https://localhost:8080/",
          "height": 108
        }
      },
      "cell_type": "code",
      "source": [
        "random = [5, 9]\n",
        "\n",
        "# converting list to iterator\n",
        "randomIterator = iter(random)\n",
        "\n",
        "# Output: 5\n",
        "print(next(randomIterator, '-1'))\n",
        "\n",
        "# Output: 9\n",
        "print(next(randomIterator, '-1'))\n",
        "\n",
        "# randomIterator is exhausted\n",
        "# Output: '-1'\n",
        "print(next(randomIterator, '-1'))\n",
        "print(next(randomIterator, '-1'))\n",
        "print(next(randomIterator, '-1'))"
      ],
      "execution_count": 0,
      "outputs": [
        {
          "output_type": "stream",
          "text": [
            "5\n",
            "9\n",
            "-1\n",
            "-1\n",
            "-1\n"
          ],
          "name": "stdout"
        }
      ]
    },
    {
      "metadata": {
        "id": "Ks5T3SrICzeG",
        "colab_type": "code",
        "outputId": "69384e0a-ee13-4931-f86b-b541724ac9d1",
        "colab": {
          "base_uri": "https://localhost:8080/",
          "height": 72
        }
      },
      "cell_type": "code",
      "source": [
        "a=(i for i,x in enumerate([0,0,0,1,2,]) if x !=0)\n",
        "print(list(a)) # run over the iterator to get list so next will give default value\n",
        "print(next(a,-1)) \n",
        "print(next(a,-1))"
      ],
      "execution_count": 0,
      "outputs": [
        {
          "output_type": "stream",
          "text": [
            "[3, 4]\n",
            "-1\n",
            "-1\n"
          ],
          "name": "stdout"
        }
      ]
    },
    {
      "metadata": {
        "id": "7V7wYi7nDrrd",
        "colab_type": "code",
        "outputId": "3995874a-3699-4ab8-a051-48bfab90e821",
        "colab": {
          "base_uri": "https://localhost:8080/",
          "height": 54
        }
      },
      "cell_type": "code",
      "source": [
        "a=(i for i,x in enumerate([0,0,0,1,2,]) if x !=0)\n",
        "print(next(a,-1)) \n",
        "print(next(a,-1))"
      ],
      "execution_count": 0,
      "outputs": [
        {
          "output_type": "stream",
          "text": [
            "3\n",
            "4\n"
          ],
          "name": "stdout"
        }
      ]
    },
    {
      "metadata": {
        "id": "Ed1THyUUJGJE",
        "colab_type": "text"
      },
      "cell_type": "markdown",
      "source": [
        "## [copy in Python (Deep Copy and Shallow Copy)](https://www.geeksforgeeks.org/copy-python-deep-copy-shallow-copy/)\n",
        "\n",
        "  - Deep copy is a process in which the copying process occurs recursively. It means first constructing a new collection object and then recursively populating it with copies of the child objects found in the original. In case of deep copy, a copy of object is copied in other object. It means that any changes made to a copy of object do not reflect in the original object. In python, this is implemented using “deepcopy()” function.\n",
        "  \n",
        "  - A shallow copy means constructing a new collection object and then populating it with references to the child objects found in the original. The copying process does not recurse and therefore won’t create copies of the child objects themselves. In case of shallow copy, a reference of object is copied in other object. It means that any changes made to a copy of object do reflect in the original object. In python, this is implemented using “copy()” function.\n",
        "  \n",
        " - The difference between shallow and deep copying is only relevant for compound objects (objects that contain other objects, like lists or class instances):\n",
        "\n",
        "    - A shallow copy constructs a new compound object and then (to the extent possible) inserts references into it to the objects found in the original.\n",
        "    - A deep copy constructs a new compound object and then, recursively, inserts copies into it of the objects found in the original."
      ]
    },
    {
      "metadata": {
        "id": "pAFX-_pWGOx_",
        "colab_type": "code",
        "outputId": "cb9b99be-01ad-4f0b-babb-2c0686d1607d",
        "colab": {
          "base_uri": "https://localhost:8080/",
          "height": 126
        }
      },
      "cell_type": "code",
      "source": [
        "# Python code to demonstrate copy operations \n",
        "  \n",
        "# importing \"copy\" for copy operations \n",
        "import copy \n",
        "  \n",
        "# initializing list 1 \n",
        "li1 = [1, 2, [3,5], 4] \n",
        "  \n",
        "# using deepcopy to deep copy  \n",
        "li2 = copy.deepcopy(li1) \n",
        "  \n",
        "# original elements of list \n",
        "print (\"The original elements before deep copying\") \n",
        "for i in range(0,len(li1)): \n",
        "    print (li1[i],end=\" \") \n",
        "  \n",
        "print(\"\\r\") \n",
        "  \n",
        "# adding and element to new list \n",
        "li2[2][0] = 7\n",
        "  \n",
        "# Change is reflected in l2  \n",
        "print (\"The new list of elements after deep copying \") \n",
        "for i in range(0,len( li1)): \n",
        "    print (li2[i],end=\" \") \n",
        "  \n",
        "print(\"\\r\") \n",
        "  \n",
        "# Change is NOT reflected in original list \n",
        "# as it is a deep copy \n",
        "print (\"The original elements after deep copying\") \n",
        "for i in range(0,len( li1)): \n",
        "    print (li1[i],end=\" \") "
      ],
      "execution_count": 0,
      "outputs": [
        {
          "output_type": "stream",
          "text": [
            "The original elements before deep copying\n",
            "1 2 [3, 5] 4 \r\n",
            "The new list of elements after deep copying \n",
            "1 2 [7, 5] 4 \r\n",
            "The original elements after deep copying\n",
            "1 2 [3, 5] 4 "
          ],
          "name": "stdout"
        }
      ]
    },
    {
      "metadata": {
        "id": "pjBMXzLMM5eI",
        "colab_type": "code",
        "outputId": "022d3086-2725-4dc0-c15d-7cefb6d0b127",
        "colab": {
          "base_uri": "https://localhost:8080/",
          "height": 90
        }
      },
      "cell_type": "code",
      "source": [
        "# Python code to demonstrate copy operations \n",
        "  \n",
        "# importing \"copy\" for copy operations \n",
        "import copy \n",
        "  \n",
        "# initializing list 1 \n",
        "li1 = [1, 2, [3,5], 4] \n",
        "  \n",
        "# using copy to shallow copy  \n",
        "li2 = copy.copy(li1) \n",
        "  \n",
        "# original elements of list \n",
        "print (\"The original elements before shallow copying\") \n",
        "for i in range(0,len(li1)): \n",
        "    print (li1[i],end=\" \") \n",
        "  \n",
        "print(\"\\r\") \n",
        "  \n",
        "# adding and element to new list \n",
        "li2[2][0] = 7\n",
        "  \n",
        "# checking if change is reflected \n",
        "print (\"The original elements after shallow copying\") \n",
        "for i in range(0,len( li1)): \n",
        "    print (li1[i],end=\" \") "
      ],
      "execution_count": 0,
      "outputs": [
        {
          "output_type": "stream",
          "text": [
            "The original elements before shallow copying\n",
            "1 2 [3, 5] 4 \r\n",
            "The original elements after shallow copying\n",
            "1 2 [7, 5] 4 "
          ],
          "name": "stdout"
        }
      ]
    },
    {
      "metadata": {
        "id": "hDbB24uGOvjY",
        "colab_type": "text"
      },
      "cell_type": "markdown",
      "source": [
        "## 5.4 Advancing through an array\n",
        "\n",
        "  input: an array of n integers where A[i] denotes the max you can advance from index i\n",
        "  \n",
        "  output: True if it is possible to advance to the last index from index 0\n",
        "  \n",
        "  - iterate through A, track the furthest index we can advance to, the furthest index from index i is i+A[i]\n",
        "  - time O(n), space O(1)\n",
        "  \n",
        "  "
      ]
    },
    {
      "metadata": {
        "id": "ux9beGsxNoXb",
        "colab_type": "code",
        "outputId": "24f1b369-0d68-41d7-8571-26db32e0f7c1",
        "colab": {
          "base_uri": "https://localhost:8080/",
          "height": 54
        }
      },
      "cell_type": "code",
      "source": [
        "def can_reach_end(A):\n",
        "  furthest_reach_so_far, last_index = 0 ,len(A)-1\n",
        "  i=0\n",
        "  while i <=furthest_reach_so_far and furthest_reach_so_far < last_index:\n",
        "    furthest_reach_so_far = max(furthest_reach_so_far, A[i]+i)\n",
        "    i += 1\n",
        "  return furthest_reach_so_far >= last_index\n",
        "\n",
        "\n",
        "print(can_reach_end([3,3,1,0,2,0,1]))\n",
        "print(can_reach_end([3,2,0,0,2,0,1]))\n",
        "\n",
        "  "
      ],
      "execution_count": 0,
      "outputs": [
        {
          "output_type": "stream",
          "text": [
            "True\n",
            "False\n"
          ],
          "name": "stdout"
        }
      ]
    },
    {
      "metadata": {
        "id": "jzESjizfXPQ2",
        "colab_type": "text"
      },
      "cell_type": "markdown",
      "source": [
        "## 5.5 delete duplicates from a sorted array\n",
        "\n",
        "  input: an sorted array\n",
        "  \n",
        "  output: all duplicated are removed and the remaining elements are shifted left to fill the emptied indices\n",
        "  \n",
        "  - brute-force\n",
        "  \n",
        "  - time O(n): a pointer to keep track of first vacant entry. iterate through A, move new value to first vacant entry, then move first vacant entry += 1"
      ]
    },
    {
      "metadata": {
        "id": "m_t_zt3tW5rF",
        "colab_type": "code",
        "outputId": "c3a286be-2979-4cee-d9e2-c9481ae019c9",
        "colab": {
          "base_uri": "https://localhost:8080/",
          "height": 35
        }
      },
      "cell_type": "code",
      "source": [
        "# returns the number of valid entries after deletion\n",
        "\n",
        "def delete_duplicates(A):\n",
        "  if not A:\n",
        "    return 0\n",
        "  \n",
        "  write_index = 1\n",
        "  for i in range(1, len(A)):\n",
        "    if A[write_index-1]!=A[i]:\n",
        "      A[write_index] = A[i] # record the A[pointer]\n",
        "      write_index += 1 # move pointer\n",
        "  return write_index\n",
        "  \n",
        " \n",
        "\n",
        "delete_duplicates([2,3,5,5,7,11,11,11,13])"
      ],
      "execution_count": 0,
      "outputs": [
        {
          "output_type": "execute_result",
          "data": {
            "text/plain": [
              "6"
            ]
          },
          "metadata": {
            "tags": []
          },
          "execution_count": 128
        }
      ]
    },
    {
      "metadata": {
        "id": "Ge1j-4hrhguV",
        "colab_type": "code",
        "colab": {}
      },
      "cell_type": "code",
      "source": [
        ""
      ],
      "execution_count": 0,
      "outputs": []
    },
    {
      "metadata": {
        "id": "PYHMfQToh4IR",
        "colab_type": "text"
      },
      "cell_type": "markdown",
      "source": [
        "## 5.6 buy and sell a stock once\n",
        "\n",
        "  input: an array of stock prices\n",
        "  \n",
        "  output: max profit after buying one and then selling it later\n",
        "  \n",
        "  - focus on valid differences: compute the difference of the current entry with the minimum value seen so far as we iterate through the array\n",
        "    - time O(n), space O(1) where n is len(A)"
      ]
    },
    {
      "metadata": {
        "id": "P8PXTLjADRK9",
        "colab_type": "code",
        "colab": {}
      },
      "cell_type": "code",
      "source": [
        "import sys\n",
        "import random\n",
        "\n",
        "def buy_and_sell_stock_once(prices):\n",
        "  min_price_so_far, max_profit = float('inf'), 0.0\n",
        "  for price in prices:\n",
        "    max_profit_sell_today = price - min_price_so_far\n",
        "    max_profit = max(max_profit, max_profit_sell_today)\n",
        "    min_price_so_far = min(min_price_so_far, price)\n",
        "  return max_profit\n",
        "\n",
        "\n",
        "def check_ans(h):\n",
        "    \"\"\"O(n^2) checking answer.\"\"\"\n",
        "    return max([h[i] - h[j] for i in range(1, len(h)) for j in range(i)],\n",
        "               default=0)\n",
        "\n",
        "\n",
        "def main():\n",
        "    for _ in range(1000):\n",
        "        n = int(sys.argv[1]) if len(sys.argv) == 2 else random.randint(1, 1000)\n",
        "        a = [random.uniform(0, n) for _ in range(n)]\n",
        "        #print(buy_and_sell_stock_once(a))\n",
        "        assert check_ans(a) == buy_and_sell_stock_once(a)\n",
        "\n",
        "\n",
        "if __name__ == '__main__':\n",
        "    main()"
      ],
      "execution_count": 0,
      "outputs": []
    },
    {
      "metadata": {
        "id": "2z7Hg3zDFIzI",
        "colab_type": "text"
      },
      "cell_type": "markdown",
      "source": [
        "## 5.7 buy and sell a stock twice\n",
        "\n",
        "  input: an array of stock prices\n",
        "  \n",
        "  output: max profit after buyng and selling a share at most twice\n",
        "  \n",
        "  \n",
        "    - brute-force: examine all combination of buy-sell-buy-sell with O(n^4) time complexity\n",
        "    \n",
        "    - two phases: F[0,j]+B[j,n-1]\n",
        "      - A[0,j]: most profit by day i (record min price)\n",
        "      - A[j,n-1]: most profit on and after day i (record max price)\n",
        "     - M[i]=F[i-1]+F[i]\n",
        "      "
      ]
    },
    {
      "metadata": {
        "id": "vGnZ-UqRFHnL",
        "colab_type": "code",
        "colab": {}
      },
      "cell_type": "code",
      "source": [
        "import math\n",
        "import sys\n",
        "import random\n",
        "\n",
        "def buy_and_sell_stock_twice(prices):\n",
        "  max_total_profit, min_price_so_far = 0.0, float('inf')\n",
        "  first_buy_sell_profits = [0]* len(prices)\n",
        "  # forward phase: for each day, we record max profit if we sell on that day\n",
        "  for i, price in enumerate(prices):\n",
        "    min_price_so_far = min(min_price_so_far, price)\n",
        "    max_total_profit = max(max_total_profit, price- min_price_so_far)\n",
        "    first_buy_sell_profits[i] = max_total_profit\n",
        "    \n",
        "  # backward phase: for each day, we record the max profit if we make second buy on that day\n",
        "  max_price_so_far = float('-inf')\n",
        "  for i, price in reversed(list(enumerate(prices[1:],1))):\n",
        "    max_price_so_far = max(max_price_so_far, price)\n",
        "    max_total_profit = max(max_total_profit, max_price_so_far - price + first_buy_sell_profits[i-1])\n",
        "  return max_total_profit\n",
        "\n",
        "\n",
        "def buy_and_sell_stock_twice_constant_space(prices):\n",
        "    min_prices, max_profits = [float('inf')] * 2, [0] * 2\n",
        "    for price in prices:\n",
        "        for i in reversed(list(range(2))):\n",
        "            max_profits[i] = max(max_profits[i], price - min_prices[i])\n",
        "            min_prices[i] = min(min_prices[i],\n",
        "                                price - (0 if i == 0 else max_profits[i - 1]))\n",
        "    return max_profits[-1]\n",
        "\n",
        "\n",
        "def main():\n",
        "    for _ in range(1000):\n",
        "        n = int(sys.argv[1]) if len(sys.argv) == 2 else random.randint(1, 100)\n",
        "        a = [random.uniform(0, 10000) for _ in range(n)]\n",
        "        assert math.isclose(\n",
        "            buy_and_sell_stock_twice_constant_space(a),\n",
        "            buy_and_sell_stock_twice(a))\n",
        "\n",
        "\n",
        "if __name__ == '__main__':\n",
        "    main()"
      ],
      "execution_count": 0,
      "outputs": []
    },
    {
      "metadata": {
        "id": "BKl8IZplAhqk",
        "colab_type": "code",
        "colab": {}
      },
      "cell_type": "code",
      "source": [
        ""
      ],
      "execution_count": 0,
      "outputs": []
    },
    {
      "metadata": {
        "id": "MmzEYh-mSySG",
        "colab_type": "code",
        "outputId": "da057600-6954-4100-8bff-f9f17510272d",
        "colab": {
          "base_uri": "https://localhost:8080/",
          "height": 35
        }
      },
      "cell_type": "code",
      "source": [
        "list(enumerate([3,1,4],1))"
      ],
      "execution_count": 0,
      "outputs": [
        {
          "output_type": "execute_result",
          "data": {
            "text/plain": [
              "[(1, 3), (2, 1), (3, 4)]"
            ]
          },
          "metadata": {
            "tags": []
          },
          "execution_count": 9
        }
      ]
    },
    {
      "metadata": {
        "id": "7sWg0KWCS2qf",
        "colab_type": "code",
        "outputId": "00b7ec50-7ec8-4550-844f-8e0b6b9dfec8",
        "colab": {
          "base_uri": "https://localhost:8080/",
          "height": 35
        }
      },
      "cell_type": "code",
      "source": [
        "list(reversed(list(enumerate([3,1,4],1))))"
      ],
      "execution_count": 0,
      "outputs": [
        {
          "output_type": "execute_result",
          "data": {
            "text/plain": [
              "[(3, 4), (2, 1), (1, 3)]"
            ]
          },
          "metadata": {
            "tags": []
          },
          "execution_count": 13
        }
      ]
    },
    {
      "metadata": {
        "id": "PAj__ECboQJU",
        "colab_type": "text"
      },
      "cell_type": "markdown",
      "source": [
        "## best time to buy and sell stock (121)\n",
        "\n",
        "  input: an stock price array\n",
        "  need: one transaction (buy one and sell one)\n",
        "  output: most profit\n",
        "  \n",
        "  - record the max cash after buying stock at any point previously (which is negative), and the max cash after selling as the cash after buying and selling.\n",
        "  - time O(n), space O(1)"
      ]
    },
    {
      "metadata": {
        "id": "LmmRaBpuoNeV",
        "colab_type": "code",
        "colab": {}
      },
      "cell_type": "code",
      "source": [
        "def maxProfit(prices):\n",
        "        \n",
        "        buy = float('-inf') # max cash balance after buying a stock\n",
        "        sell = 0 # max cash balance afte rbuying and selling a stock\n",
        "        \n",
        "        for price in prices:\n",
        "            buy = max(-price, buy) # max of buying earlier or now\n",
        "            sell = max(price+buy, sell) # max of selling earlier or now\n",
        "            \n",
        "        return sell"
      ],
      "execution_count": 0,
      "outputs": []
    },
    {
      "metadata": {
        "id": "0uAgdYWkt80-",
        "colab_type": "text"
      },
      "cell_type": "markdown",
      "source": [
        "## best time to buy and sell sstock II (122)\n",
        "\n",
        "  input: an stock price array\n",
        "  rule: complete as many trasactions as you like, must sell the stock before you buy again\n",
        "  output: max profit\n",
        "  \n",
        "  - sum all price increases\n",
        "  - time O(n), space O(n) could be O(1) without creating a new list"
      ]
    },
    {
      "metadata": {
        "id": "ILOzPlPVqRCU",
        "colab_type": "code",
        "colab": {}
      },
      "cell_type": "code",
      "source": [
        "def maxProfit(prices):\n",
        "  return sum([max(prices[i]-prices[i-1],0) for i in range(1,len(prices))])"
      ],
      "execution_count": 0,
      "outputs": []
    },
    {
      "metadata": {
        "id": "pNFZiJm-r0_d",
        "colab_type": "text"
      },
      "cell_type": "markdown",
      "source": [
        "## best time to buy and sell stock III (123)\n",
        "\n",
        "  input: a stock price array\n",
        "  rule: you may complete at most two transactions, you must sell the stock before you buy again\n",
        "  output: max profit\n",
        "  \n",
        "  - As per problem 121 with an additional buy and sell\n",
        "  - time O(n), space O(1)\n",
        "  \n",
        " "
      ]
    },
    {
      "metadata": {
        "id": "D1u9Me0osMT7",
        "colab_type": "code",
        "colab": {}
      },
      "cell_type": "code",
      "source": [
        "def maxProfit(prices):\n",
        "  buy1, buy2 = float('-inf'),float('-inf')\n",
        "  sell1, sell2 = 0,0\n",
        "  \n",
        "  for price in prices:\n",
        "    buy1 = max(buy1, -price)\n",
        "    sell1 = max(sell1, buy1 + price)\n",
        "    buy2 = max(buy2, sell1-price)\n",
        "    sell2 = max (sell2, buy2 + price)\n",
        "  return sell2"
      ],
      "execution_count": 0,
      "outputs": []
    },
    {
      "metadata": {
        "id": "e0CrZHkay4zp",
        "colab_type": "text"
      },
      "cell_type": "markdown",
      "source": [
        "## best time to buy and sell stock with cooldown (309)\n",
        "\n",
        "  input: price stock list\n",
        "  rule: as many transactions as you like, must sell the stock before you buy again. after sell, you can't buy stock on next day, i.e. cooldown  1 day\n",
        "  \n",
        "  - dynamic programming"
      ]
    },
    {
      "metadata": {
        "id": "VcvKDt_kTxVx",
        "colab_type": "text"
      },
      "cell_type": "markdown",
      "source": [
        "## enumerate\n",
        "\n",
        "   enumerate(iterable, start=0)\n",
        "  \n",
        "  - Iterable: any object that supports iteration\n",
        "  - Start: the index value from which the counter is to be started, by default it is 0 "
      ]
    },
    {
      "metadata": {
        "id": "zexttodrU6fI",
        "colab_type": "code",
        "outputId": "d566549c-5a38-46a7-8fa7-74b4aff44dc5",
        "colab": {
          "base_uri": "https://localhost:8080/",
          "height": 72
        }
      },
      "cell_type": "code",
      "source": [
        "# Python program to illustrate \n",
        "# enumerate function \n",
        "l1 = [\"eat\",\"sleep\",\"repeat\"] \n",
        "s1 = \"geek\"\n",
        "  \n",
        "# creating enumerate objects \n",
        "obj1 = enumerate(l1) \n",
        "obj2 = enumerate(s1) \n",
        "  \n",
        "print (\"Return type:\",type(obj1) )\n",
        "print (list(enumerate(l1)) )\n",
        "  \n",
        "# changing start index to 2 from 0 \n",
        "print (list(enumerate(s1,2)) )"
      ],
      "execution_count": 0,
      "outputs": [
        {
          "output_type": "stream",
          "text": [
            "Return type: <class 'enumerate'>\n",
            "[(0, 'eat'), (1, 'sleep'), (2, 'repeat')]\n",
            "[(2, 'g'), (3, 'e'), (4, 'e'), (5, 'k')]\n"
          ],
          "name": "stdout"
        }
      ]
    },
    {
      "metadata": {
        "id": "axXT1Ga2U7a0",
        "colab_type": "code",
        "colab": {}
      },
      "cell_type": "code",
      "source": [
        ""
      ],
      "execution_count": 0,
      "outputs": []
    },
    {
      "metadata": {
        "id": "B_qIXId-V3iU",
        "colab_type": "code",
        "colab": {
          "base_uri": "https://localhost:8080/",
          "height": 35
        },
        "outputId": "f61d6fa8-6ae1-433c-ab41-be26a83713b7"
      },
      "cell_type": "code",
      "source": [
        "[[0 for i in range(2)] for j in range(3)]"
      ],
      "execution_count": 3,
      "outputs": [
        {
          "output_type": "execute_result",
          "data": {
            "text/plain": [
              "[[0, 0], [0, 0], [0, 0]]"
            ]
          },
          "metadata": {
            "tags": []
          },
          "execution_count": 3
        }
      ]
    },
    {
      "metadata": {
        "id": "AkVs3EqWV86C",
        "colab_type": "code",
        "colab": {
          "base_uri": "https://localhost:8080/",
          "height": 35
        },
        "outputId": "633809e9-19da-4567-c242-f51f16687246"
      },
      "cell_type": "code",
      "source": [
        "memo={}\n",
        "memo[(1,1)]=2\n",
        "memo[(1,0)]=1\n",
        "memo[(0,1)]=3\n",
        "memo"
      ],
      "execution_count": 4,
      "outputs": [
        {
          "output_type": "execute_result",
          "data": {
            "text/plain": [
              "{(0, 1): 3, (1, 0): 1, (1, 1): 2}"
            ]
          },
          "metadata": {
            "tags": []
          },
          "execution_count": 4
        }
      ]
    },
    {
      "metadata": {
        "id": "MF3DUjv0aswx",
        "colab_type": "code",
        "colab": {}
      },
      "cell_type": "code",
      "source": [
        ""
      ],
      "execution_count": 0,
      "outputs": []
    }
  ]
}