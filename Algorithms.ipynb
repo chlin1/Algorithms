{
  "nbformat": 4,
  "nbformat_minor": 0,
  "metadata": {
    "colab": {
      "name": "Algorithms.ipynb",
      "version": "0.3.2",
      "provenance": [],
      "include_colab_link": true
    },
    "kernelspec": {
      "name": "python3",
      "display_name": "Python 3"
    }
  },
  "cells": [
    {
      "cell_type": "markdown",
      "metadata": {
        "id": "view-in-github",
        "colab_type": "text"
      },
      "source": [
        "<a href=\"https://colab.research.google.com/github/chlin1/Algorithms/blob/master/Algorithms.ipynb\" target=\"_parent\"><img src=\"https://colab.research.google.com/assets/colab-badge.svg\" alt=\"Open In Colab\"/></a>"
      ]
    },
    {
      "metadata": {
        "id": "B0CCuEfOfH9M",
        "colab_type": "code",
        "colab": {}
      },
      "cell_type": "code",
      "source": [
        ""
      ],
      "execution_count": 0,
      "outputs": []
    },
    {
      "metadata": {
        "id": "hgh7o9PCfJKs",
        "colab_type": "text"
      },
      "cell_type": "markdown",
      "source": [
        "# 6. Dynamic programming\n",
        "\n",
        "  - Solve a problem by identifying a collection of subproblems and tackling them one by one.\n",
        "  - a dag: \n",
        "    - nodes: subproblems\n",
        "    - edges: dependencies between subproblems\n",
        "  - We define a colection of subproblems {L(j), 1<=j<=n} with the property that there is an ordering on the subproblems, and a relation that shows how to solve a subproblem given the answers to smaller subproblems, that is, subproblems that appear earlier in the ordering."
      ]
    },
    {
      "metadata": {
        "id": "lIWR5jLXfT2h",
        "colab_type": "text"
      },
      "cell_type": "markdown",
      "source": [
        "## 6.1 shortest paths in dags\n",
        "  - dag: its nodes can be linearized, i.e. they can be arranged on a line so that all edges go from left to right\n",
        "  - At each node, we compute some function of the values of the node's predecessors.\n",
        "  "
      ]
    },
    {
      "metadata": {
        "id": "F1sgG8wQgaHv",
        "colab_type": "text"
      },
      "cell_type": "markdown",
      "source": [
        "## 6.2 longest increasing subsequences\n",
        "\n",
        "  input: a sequence of numbers\n",
        "  \n",
        "  output: longest increading subsequence\n",
        "  \n",
        "  e.g. input: 5,2,8,6,3,6,9,7. output: 2,3,6,9\n",
        "  "
      ]
    },
    {
      "metadata": {
        "id": "rawARY4Hjhd0",
        "colab_type": "text"
      },
      "cell_type": "markdown",
      "source": [
        "## 6.3 Edit distance\n",
        "\n",
        "  input: two strings\n",
        "  \n",
        "  output: edit distance between two strings is the cost of their best possible alignment(insert, del or subsitute)\n",
        "  \n",
        "  "
      ]
    },
    {
      "metadata": {
        "id": "hGC8NFLfkDp8",
        "colab_type": "code",
        "colab": {}
      },
      "cell_type": "code",
      "source": [
        "# leetcode 72\n",
        "class Solution(object):\n",
        "    def minDistance1(self, word1, word2):\n",
        "        \"\"\"\n",
        "        :type word1: str\n",
        "        :type word2: str\n",
        "        :rtype: int\n",
        "        \"\"\"\n",
        "        # E[i,j]= edit distance between x[1...i] and y[1...j]\n",
        "        # E[i,j]= min{1+E(i-1,j),1+E(i,j-1),diff(i,j)+E(i-1,j-1)}\n",
        "        # diff(i,j) = 0 if x[i]=y[j] and 1 otherwise.\n",
        "        # time O(mn)\n",
        "        m,n=len(word1), len(word2)\n",
        "        result=[[0 for j in range(n+1)] for i in range(m+1)]\n",
        "        \n",
        "        for i in range(m+1):\n",
        "            result[i][0]=i\n",
        "        for j in range(n+1):\n",
        "            result[0][j]=j\n",
        "        \n",
        "        for i in range(1, m+1):\n",
        "            for j in range(1,n+1):\n",
        "                if word1[i-1]==word2[j-1]:\n",
        "                    result[i][j] = result[i-1][j-1]\n",
        "                else:\n",
        "                    result[i][j]=1+ min(result[i-1][j], result[i][j-1],result[i-1][j-1])\n",
        "        return result[-1][-1]\n",
        "    \n",
        "    def minDistance(self, word1, word2):\n",
        "        # dynamic programming. base case if either string is empty, return unmatched length of other string. If last characters matched then same cost as matching other characters. Else best case of insert, delete or replace\n",
        "        # time O(mn), space O(mn)\n",
        "        \n",
        "        def edit_distance(i,j):\n",
        "            if i<0 or j<0:\n",
        "                return i+1+j+1\n",
        "            \n",
        "            if (i,j) in memo:\n",
        "                return memo[(i,j)]\n",
        "            \n",
        "            if word1[i] == word2[j]:\n",
        "                result = edit_distance(i-1,j-1)\n",
        "            else:\n",
        "                result = 1 + min(edit_distance(i-1,j),edit_distance(i,j-1),edit_distance(i-1,j-1))\n",
        "            memo[(i,j)] = result\n",
        "            return result\n",
        "        \n",
        "        memo={}\n",
        "        return edit_distance(len(word1)-1 , len(word2)-1 )"
      ],
      "execution_count": 0,
      "outputs": []
    },
    {
      "metadata": {
        "id": "3-kMxk9Ulgoy",
        "colab_type": "text"
      },
      "cell_type": "markdown",
      "source": [
        "## 6.4 knapsack\n",
        "\n",
        "  input: n items with weight wi and value vi\n",
        "  \n",
        "  output: most valuable combination of items to fit into his bag with max weight W\n",
        "  \n",
        "  - with repetition\n",
        "    - K(w) = max value achievable with a bag of capacity w\n",
        "    - K(w) = max_{i:wi <= w} { K(w-wi)+vi }\n",
        "    - K(0) = 0\n",
        "      \n",
        "  - without repetition\n",
        "    - K(w, j)= max value achievable with a bag of capacity w and items i,...,j\n",
        "    - K(0,j)= K(w,0)=0\n",
        "    - K(w,j) = max {K(w-wj,j-1)+vj, K(w,j-1)}\n",
        "    - either item j is needed or not, expresss K(, j) in terms of K(, j-1)\n",
        "  \n",
        "  \n",
        "  "
      ]
    },
    {
      "metadata": {
        "id": "LYljOOS8pv6w",
        "colab_type": "code",
        "colab": {
          "base_uri": "https://localhost:8080/",
          "height": 35
        },
        "outputId": "5c79a8cd-e144-4af2-8029-f527db098dee"
      },
      "cell_type": "code",
      "source": [
        "# with repetition\n",
        "'''\n",
        "      K(0) = 0\n",
        "      for w=1 to W:\n",
        "        K(w)=max{K(w-wi)+vi:wi<=w}\n",
        "      return K(w)\n",
        "'''      \n",
        "# time O(nW)\n",
        "\n",
        "def bag(W, iw, iv):\n",
        "  K=[0]*(W+1)\n",
        "  for w in range(1,W+1):\n",
        "    for i in range(len(iv)):\n",
        "      if w>=iw[i]:\n",
        "        K[w] = max(K[w-iw[i]]+iv[i],K[w])\n",
        "  return K[W]\n",
        "\n",
        "bag(10, [6,3,4,2],[30,14,16,9])"
      ],
      "execution_count": 2,
      "outputs": [
        {
          "output_type": "execute_result",
          "data": {
            "text/plain": [
              "48"
            ]
          },
          "metadata": {
            "tags": []
          },
          "execution_count": 2
        }
      ]
    },
    {
      "metadata": {
        "id": "Ma1F2tn5sYgZ",
        "colab_type": "code",
        "colab": {}
      },
      "cell_type": "code",
      "source": [
        "# without repetition\n",
        "'''\n",
        "  all K(0,j)=0 and all K(w,0)=0\n",
        "  for j = 1 to n:\n",
        "    for w= 1 to W:\n",
        "      if wj>w: K(w,j) = K(w,j-1)\n",
        "      else: K(w,j) = max{K(w,j-1),K(w-wj,j-1)+vj}\n",
        "  return K(W,n)\n",
        "'''"
      ],
      "execution_count": 0,
      "outputs": []
    },
    {
      "metadata": {
        "id": "X2n4rMZntl8A",
        "colab_type": "code",
        "colab": {}
      },
      "cell_type": "code",
      "source": [
        ""
      ],
      "execution_count": 0,
      "outputs": []
    }
  ]
}